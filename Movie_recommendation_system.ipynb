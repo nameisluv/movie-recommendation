{
  "cells": [
    {
      "cell_type": "markdown",
      "metadata": {
        "colab_type": "text",
        "id": "view-in-github"
      },
      "source": [
        "<a href=\"https://colab.research.google.com/github/nano-bot01/Movie-Recommendation-System-for-Hollywoord-movies/blob/main/Movie_recommendation_system.ipynb\" target=\"_parent\"><img src=\"https://colab.research.google.com/assets/colab-badge.svg\" alt=\"Open In Colab\"/></a>"
      ]
    },
    {
      "cell_type": "markdown",
      "metadata": {
        "id": "6DhEq34e2TdA"
      },
      "source": [
        "# Movie Recommendation system "
      ]
    },
    {
      "cell_type": "markdown",
      "metadata": {
        "id": "4keJXUOc2Oz5"
      },
      "source": [
        "## Importing the dependencies"
      ]
    },
    {
      "cell_type": "code",
      "execution_count": 325,
      "metadata": {
        "id": "olpNUCpczjak"
      },
      "outputs": [],
      "source": [
        "import numpy as np\n",
        "import pandas as pd\n",
        "import difflib\n",
        "from scipy.sparse import find\n",
        "\n",
        "from sklearn.feature_extraction.text import TfidfVectorizer \n",
        "# for transforming the textual data to numerical feature vector to find present similarity values \n",
        "from sklearn.metrics.pairwise import cosine_similarity"
      ]
    },
    {
      "cell_type": "markdown",
      "metadata": {
        "id": "ykYvxcJp3bc_"
      },
      "source": [
        "## Dataset Loading and Preprocessing\n"
      ]
    },
    {
      "cell_type": "code",
      "execution_count": 326,
      "metadata": {
        "id": "UvrfSw_b3auQ"
      },
      "outputs": [],
      "source": [
        "# loading the dataset\n",
        "\n",
        "dataset = pd.read_csv('movies.csv')"
      ]
    },
    {
      "cell_type": "code",
      "execution_count": 327,
      "metadata": {
        "colab": {
          "base_uri": "https://localhost:8080/",
          "height": 837
        },
        "id": "nEIbtmfX3arR",
        "outputId": "f8f39d2d-b61c-41ca-ae67-df7ece2580be"
      },
      "outputs": [
        {
          "data": {
            "text/html": [
              "<div>\n",
              "<style scoped>\n",
              "    .dataframe tbody tr th:only-of-type {\n",
              "        vertical-align: middle;\n",
              "    }\n",
              "\n",
              "    .dataframe tbody tr th {\n",
              "        vertical-align: top;\n",
              "    }\n",
              "\n",
              "    .dataframe thead th {\n",
              "        text-align: right;\n",
              "    }\n",
              "</style>\n",
              "<table border=\"1\" class=\"dataframe\">\n",
              "  <thead>\n",
              "    <tr style=\"text-align: right;\">\n",
              "      <th></th>\n",
              "      <th>Index</th>\n",
              "      <th>Poster_Link</th>\n",
              "      <th>Series_Title</th>\n",
              "      <th>Released_Year</th>\n",
              "      <th>Certificate</th>\n",
              "      <th>Runtime</th>\n",
              "      <th>Genre</th>\n",
              "      <th>IMDB_Rating</th>\n",
              "      <th>Overview</th>\n",
              "      <th>Meta_score</th>\n",
              "      <th>Director</th>\n",
              "      <th>Star1</th>\n",
              "      <th>Star2</th>\n",
              "      <th>Star3</th>\n",
              "      <th>Star4</th>\n",
              "      <th>No_of_Votes</th>\n",
              "      <th>Gross</th>\n",
              "    </tr>\n",
              "  </thead>\n",
              "  <tbody>\n",
              "    <tr>\n",
              "      <th>0</th>\n",
              "      <td>1</td>\n",
              "      <td>https://m.media-amazon.com/images/M/MV5BMDFkYT...</td>\n",
              "      <td>The Shawshank Redemption</td>\n",
              "      <td>1994</td>\n",
              "      <td>A</td>\n",
              "      <td>142 min</td>\n",
              "      <td>Drama</td>\n",
              "      <td>9.3</td>\n",
              "      <td>Two imprisoned men bond over a number of years...</td>\n",
              "      <td>80.0</td>\n",
              "      <td>Frank Darabont</td>\n",
              "      <td>Tim Robbins</td>\n",
              "      <td>Morgan Freeman</td>\n",
              "      <td>Bob Gunton</td>\n",
              "      <td>William Sadler</td>\n",
              "      <td>2343110</td>\n",
              "      <td>28,341,469</td>\n",
              "    </tr>\n",
              "    <tr>\n",
              "      <th>1</th>\n",
              "      <td>2</td>\n",
              "      <td>https://m.media-amazon.com/images/M/MV5BM2MyNj...</td>\n",
              "      <td>The Godfather</td>\n",
              "      <td>1972</td>\n",
              "      <td>A</td>\n",
              "      <td>175 min</td>\n",
              "      <td>Crime, Drama</td>\n",
              "      <td>9.2</td>\n",
              "      <td>An organized crime dynasty's aging patriarch t...</td>\n",
              "      <td>100.0</td>\n",
              "      <td>Francis Ford Coppola</td>\n",
              "      <td>Marlon Brando</td>\n",
              "      <td>Al Pacino</td>\n",
              "      <td>James Caan</td>\n",
              "      <td>Diane Keaton</td>\n",
              "      <td>1620367</td>\n",
              "      <td>134,966,411</td>\n",
              "    </tr>\n",
              "    <tr>\n",
              "      <th>2</th>\n",
              "      <td>3</td>\n",
              "      <td>https://m.media-amazon.com/images/M/MV5BMTMxNT...</td>\n",
              "      <td>The Dark Knight</td>\n",
              "      <td>2008</td>\n",
              "      <td>UA</td>\n",
              "      <td>152 min</td>\n",
              "      <td>Action, Crime, Drama</td>\n",
              "      <td>9.0</td>\n",
              "      <td>When the menace known as the Joker wreaks havo...</td>\n",
              "      <td>84.0</td>\n",
              "      <td>Christopher Nolan</td>\n",
              "      <td>Christian Bale</td>\n",
              "      <td>Heath Ledger</td>\n",
              "      <td>Aaron Eckhart</td>\n",
              "      <td>Michael Caine</td>\n",
              "      <td>2303232</td>\n",
              "      <td>534,858,444</td>\n",
              "    </tr>\n",
              "    <tr>\n",
              "      <th>3</th>\n",
              "      <td>4</td>\n",
              "      <td>https://m.media-amazon.com/images/M/MV5BMWMwMG...</td>\n",
              "      <td>The Godfather: Part II</td>\n",
              "      <td>1974</td>\n",
              "      <td>A</td>\n",
              "      <td>202 min</td>\n",
              "      <td>Crime, Drama</td>\n",
              "      <td>9.0</td>\n",
              "      <td>The early life and career of Vito Corleone in ...</td>\n",
              "      <td>90.0</td>\n",
              "      <td>Francis Ford Coppola</td>\n",
              "      <td>Al Pacino</td>\n",
              "      <td>Robert De Niro</td>\n",
              "      <td>Robert Duvall</td>\n",
              "      <td>Diane Keaton</td>\n",
              "      <td>1129952</td>\n",
              "      <td>57,300,000</td>\n",
              "    </tr>\n",
              "    <tr>\n",
              "      <th>4</th>\n",
              "      <td>5</td>\n",
              "      <td>https://m.media-amazon.com/images/M/MV5BMWU4N2...</td>\n",
              "      <td>12 Angry Men</td>\n",
              "      <td>1957</td>\n",
              "      <td>U</td>\n",
              "      <td>96 min</td>\n",
              "      <td>Crime, Drama</td>\n",
              "      <td>9.0</td>\n",
              "      <td>A jury holdout attempts to prevent a miscarria...</td>\n",
              "      <td>96.0</td>\n",
              "      <td>Sidney Lumet</td>\n",
              "      <td>Henry Fonda</td>\n",
              "      <td>Lee J. Cobb</td>\n",
              "      <td>Martin Balsam</td>\n",
              "      <td>John Fiedler</td>\n",
              "      <td>689845</td>\n",
              "      <td>4,360,000</td>\n",
              "    </tr>\n",
              "  </tbody>\n",
              "</table>\n",
              "</div>"
            ],
            "text/plain": [
              "   Index                                        Poster_Link  \\\n",
              "0      1  https://m.media-amazon.com/images/M/MV5BMDFkYT...   \n",
              "1      2  https://m.media-amazon.com/images/M/MV5BM2MyNj...   \n",
              "2      3  https://m.media-amazon.com/images/M/MV5BMTMxNT...   \n",
              "3      4  https://m.media-amazon.com/images/M/MV5BMWMwMG...   \n",
              "4      5  https://m.media-amazon.com/images/M/MV5BMWU4N2...   \n",
              "\n",
              "               Series_Title Released_Year Certificate  Runtime  \\\n",
              "0  The Shawshank Redemption          1994           A  142 min   \n",
              "1             The Godfather          1972           A  175 min   \n",
              "2           The Dark Knight          2008          UA  152 min   \n",
              "3    The Godfather: Part II          1974           A  202 min   \n",
              "4              12 Angry Men          1957           U   96 min   \n",
              "\n",
              "                  Genre  IMDB_Rating  \\\n",
              "0                 Drama          9.3   \n",
              "1          Crime, Drama          9.2   \n",
              "2  Action, Crime, Drama          9.0   \n",
              "3          Crime, Drama          9.0   \n",
              "4          Crime, Drama          9.0   \n",
              "\n",
              "                                            Overview  Meta_score  \\\n",
              "0  Two imprisoned men bond over a number of years...        80.0   \n",
              "1  An organized crime dynasty's aging patriarch t...       100.0   \n",
              "2  When the menace known as the Joker wreaks havo...        84.0   \n",
              "3  The early life and career of Vito Corleone in ...        90.0   \n",
              "4  A jury holdout attempts to prevent a miscarria...        96.0   \n",
              "\n",
              "               Director           Star1           Star2          Star3  \\\n",
              "0        Frank Darabont     Tim Robbins  Morgan Freeman     Bob Gunton   \n",
              "1  Francis Ford Coppola   Marlon Brando       Al Pacino     James Caan   \n",
              "2     Christopher Nolan  Christian Bale    Heath Ledger  Aaron Eckhart   \n",
              "3  Francis Ford Coppola       Al Pacino  Robert De Niro  Robert Duvall   \n",
              "4          Sidney Lumet     Henry Fonda     Lee J. Cobb  Martin Balsam   \n",
              "\n",
              "            Star4  No_of_Votes        Gross  \n",
              "0  William Sadler      2343110   28,341,469  \n",
              "1    Diane Keaton      1620367  134,966,411  \n",
              "2   Michael Caine      2303232  534,858,444  \n",
              "3    Diane Keaton      1129952   57,300,000  \n",
              "4    John Fiedler       689845    4,360,000  "
            ]
          },
          "execution_count": 327,
          "metadata": {},
          "output_type": "execute_result"
        }
      ],
      "source": [
        "dataset.head()"
      ]
    },
    {
      "cell_type": "code",
      "execution_count": 328,
      "metadata": {
        "colab": {
          "base_uri": "https://localhost:8080/",
          "height": 733
        },
        "id": "d6pftABQ3al5",
        "outputId": "7d35eadd-a29d-412c-e45c-073dc1f5713f"
      },
      "outputs": [
        {
          "data": {
            "text/html": [
              "<div>\n",
              "<style scoped>\n",
              "    .dataframe tbody tr th:only-of-type {\n",
              "        vertical-align: middle;\n",
              "    }\n",
              "\n",
              "    .dataframe tbody tr th {\n",
              "        vertical-align: top;\n",
              "    }\n",
              "\n",
              "    .dataframe thead th {\n",
              "        text-align: right;\n",
              "    }\n",
              "</style>\n",
              "<table border=\"1\" class=\"dataframe\">\n",
              "  <thead>\n",
              "    <tr style=\"text-align: right;\">\n",
              "      <th></th>\n",
              "      <th>Index</th>\n",
              "      <th>Poster_Link</th>\n",
              "      <th>Series_Title</th>\n",
              "      <th>Released_Year</th>\n",
              "      <th>Certificate</th>\n",
              "      <th>Runtime</th>\n",
              "      <th>Genre</th>\n",
              "      <th>IMDB_Rating</th>\n",
              "      <th>Overview</th>\n",
              "      <th>Meta_score</th>\n",
              "      <th>Director</th>\n",
              "      <th>Star1</th>\n",
              "      <th>Star2</th>\n",
              "      <th>Star3</th>\n",
              "      <th>Star4</th>\n",
              "      <th>No_of_Votes</th>\n",
              "      <th>Gross</th>\n",
              "    </tr>\n",
              "  </thead>\n",
              "  <tbody>\n",
              "    <tr>\n",
              "      <th>995</th>\n",
              "      <td>996</td>\n",
              "      <td>https://m.media-amazon.com/images/M/MV5BNGEwMT...</td>\n",
              "      <td>Breakfast at Tiffany's</td>\n",
              "      <td>1961</td>\n",
              "      <td>A</td>\n",
              "      <td>115 min</td>\n",
              "      <td>Comedy, Drama, Romance</td>\n",
              "      <td>7.6</td>\n",
              "      <td>A young New York socialite becomes interested ...</td>\n",
              "      <td>76.0</td>\n",
              "      <td>Blake Edwards</td>\n",
              "      <td>Audrey Hepburn</td>\n",
              "      <td>George Peppard</td>\n",
              "      <td>Patricia Neal</td>\n",
              "      <td>Buddy Ebsen</td>\n",
              "      <td>166544</td>\n",
              "      <td>NaN</td>\n",
              "    </tr>\n",
              "    <tr>\n",
              "      <th>996</th>\n",
              "      <td>997</td>\n",
              "      <td>https://m.media-amazon.com/images/M/MV5BODk3Yj...</td>\n",
              "      <td>Giant</td>\n",
              "      <td>1956</td>\n",
              "      <td>G</td>\n",
              "      <td>201 min</td>\n",
              "      <td>Drama, Western</td>\n",
              "      <td>7.6</td>\n",
              "      <td>Sprawling epic covering the life of a Texas ca...</td>\n",
              "      <td>84.0</td>\n",
              "      <td>George Stevens</td>\n",
              "      <td>Elizabeth Taylor</td>\n",
              "      <td>Rock Hudson</td>\n",
              "      <td>James Dean</td>\n",
              "      <td>Carroll Baker</td>\n",
              "      <td>34075</td>\n",
              "      <td>NaN</td>\n",
              "    </tr>\n",
              "    <tr>\n",
              "      <th>997</th>\n",
              "      <td>998</td>\n",
              "      <td>https://m.media-amazon.com/images/M/MV5BM2U3Yz...</td>\n",
              "      <td>From Here to Eternity</td>\n",
              "      <td>1953</td>\n",
              "      <td>Passed</td>\n",
              "      <td>118 min</td>\n",
              "      <td>Drama, Romance, War</td>\n",
              "      <td>7.6</td>\n",
              "      <td>In Hawaii in 1941, a private is cruelly punish...</td>\n",
              "      <td>85.0</td>\n",
              "      <td>Fred Zinnemann</td>\n",
              "      <td>Burt Lancaster</td>\n",
              "      <td>Montgomery Clift</td>\n",
              "      <td>Deborah Kerr</td>\n",
              "      <td>Donna Reed</td>\n",
              "      <td>43374</td>\n",
              "      <td>30,500,000</td>\n",
              "    </tr>\n",
              "    <tr>\n",
              "      <th>998</th>\n",
              "      <td>999</td>\n",
              "      <td>https://m.media-amazon.com/images/M/MV5BZTBmMj...</td>\n",
              "      <td>Lifeboat</td>\n",
              "      <td>1944</td>\n",
              "      <td>NaN</td>\n",
              "      <td>97 min</td>\n",
              "      <td>Drama, War</td>\n",
              "      <td>7.6</td>\n",
              "      <td>Several survivors of a torpedoed merchant ship...</td>\n",
              "      <td>78.0</td>\n",
              "      <td>Alfred Hitchcock</td>\n",
              "      <td>Tallulah Bankhead</td>\n",
              "      <td>John Hodiak</td>\n",
              "      <td>Walter Slezak</td>\n",
              "      <td>William Bendix</td>\n",
              "      <td>26471</td>\n",
              "      <td>NaN</td>\n",
              "    </tr>\n",
              "    <tr>\n",
              "      <th>999</th>\n",
              "      <td>1000</td>\n",
              "      <td>https://m.media-amazon.com/images/M/MV5BMTY5OD...</td>\n",
              "      <td>The 39 Steps</td>\n",
              "      <td>1935</td>\n",
              "      <td>NaN</td>\n",
              "      <td>86 min</td>\n",
              "      <td>Crime, Mystery, Thriller</td>\n",
              "      <td>7.6</td>\n",
              "      <td>A man in London tries to help a counter-espion...</td>\n",
              "      <td>93.0</td>\n",
              "      <td>Alfred Hitchcock</td>\n",
              "      <td>Robert Donat</td>\n",
              "      <td>Madeleine Carroll</td>\n",
              "      <td>Lucie Mannheim</td>\n",
              "      <td>Godfrey Tearle</td>\n",
              "      <td>51853</td>\n",
              "      <td>NaN</td>\n",
              "    </tr>\n",
              "  </tbody>\n",
              "</table>\n",
              "</div>"
            ],
            "text/plain": [
              "     Index                                        Poster_Link  \\\n",
              "995    996  https://m.media-amazon.com/images/M/MV5BNGEwMT...   \n",
              "996    997  https://m.media-amazon.com/images/M/MV5BODk3Yj...   \n",
              "997    998  https://m.media-amazon.com/images/M/MV5BM2U3Yz...   \n",
              "998    999  https://m.media-amazon.com/images/M/MV5BZTBmMj...   \n",
              "999   1000  https://m.media-amazon.com/images/M/MV5BMTY5OD...   \n",
              "\n",
              "               Series_Title Released_Year Certificate  Runtime  \\\n",
              "995  Breakfast at Tiffany's          1961           A  115 min   \n",
              "996                   Giant          1956           G  201 min   \n",
              "997   From Here to Eternity          1953      Passed  118 min   \n",
              "998                Lifeboat          1944         NaN   97 min   \n",
              "999            The 39 Steps          1935         NaN   86 min   \n",
              "\n",
              "                        Genre  IMDB_Rating  \\\n",
              "995    Comedy, Drama, Romance          7.6   \n",
              "996            Drama, Western          7.6   \n",
              "997       Drama, Romance, War          7.6   \n",
              "998                Drama, War          7.6   \n",
              "999  Crime, Mystery, Thriller          7.6   \n",
              "\n",
              "                                              Overview  Meta_score  \\\n",
              "995  A young New York socialite becomes interested ...        76.0   \n",
              "996  Sprawling epic covering the life of a Texas ca...        84.0   \n",
              "997  In Hawaii in 1941, a private is cruelly punish...        85.0   \n",
              "998  Several survivors of a torpedoed merchant ship...        78.0   \n",
              "999  A man in London tries to help a counter-espion...        93.0   \n",
              "\n",
              "             Director              Star1              Star2           Star3  \\\n",
              "995     Blake Edwards     Audrey Hepburn     George Peppard   Patricia Neal   \n",
              "996    George Stevens   Elizabeth Taylor        Rock Hudson      James Dean   \n",
              "997    Fred Zinnemann     Burt Lancaster   Montgomery Clift    Deborah Kerr   \n",
              "998  Alfred Hitchcock  Tallulah Bankhead        John Hodiak   Walter Slezak   \n",
              "999  Alfred Hitchcock       Robert Donat  Madeleine Carroll  Lucie Mannheim   \n",
              "\n",
              "              Star4  No_of_Votes       Gross  \n",
              "995     Buddy Ebsen       166544         NaN  \n",
              "996   Carroll Baker        34075         NaN  \n",
              "997      Donna Reed        43374  30,500,000  \n",
              "998  William Bendix        26471         NaN  \n",
              "999  Godfrey Tearle        51853         NaN  "
            ]
          },
          "execution_count": 328,
          "metadata": {},
          "output_type": "execute_result"
        }
      ],
      "source": [
        "dataset.tail()"
      ]
    },
    {
      "cell_type": "code",
      "execution_count": 329,
      "metadata": {
        "colab": {
          "base_uri": "https://localhost:8080/"
        },
        "id": "Vrd2I78X3ajU",
        "outputId": "c50e6910-9245-4eed-92a6-6ca53cd5392f"
      },
      "outputs": [
        {
          "data": {
            "text/plain": [
              "Index(['Index', 'Poster_Link', 'Series_Title', 'Released_Year', 'Certificate',\n",
              "       'Runtime', 'Genre', 'IMDB_Rating', 'Overview', 'Meta_score', 'Director',\n",
              "       'Star1', 'Star2', 'Star3', 'Star4', 'No_of_Votes', 'Gross'],\n",
              "      dtype='object')"
            ]
          },
          "execution_count": 329,
          "metadata": {},
          "output_type": "execute_result"
        }
      ],
      "source": [
        "# columns in dataset\n",
        "\n",
        "dataset.columns"
      ]
    },
    {
      "cell_type": "code",
      "execution_count": 330,
      "metadata": {
        "colab": {
          "base_uri": "https://localhost:8080/"
        },
        "id": "zt7g-pN13ag-",
        "outputId": "2f4e784e-fb99-4d42-bc99-ee1d442a0273"
      },
      "outputs": [
        {
          "data": {
            "text/plain": [
              "(1000, 17)"
            ]
          },
          "execution_count": 330,
          "metadata": {},
          "output_type": "execute_result"
        }
      ],
      "source": [
        "# shape of dataset frame\n",
        "\n",
        "dataset.shape"
      ]
    },
    {
      "cell_type": "code",
      "execution_count": 331,
      "metadata": {
        "colab": {
          "base_uri": "https://localhost:8080/"
        },
        "id": "rgetpbb-3aeN",
        "outputId": "017058a0-c502-4a20-c820-446f5e4b3d21"
      },
      "outputs": [
        {
          "name": "stdout",
          "output_type": "stream",
          "text": [
            "<class 'pandas.core.frame.DataFrame'>\n",
            "RangeIndex: 1000 entries, 0 to 999\n",
            "Data columns (total 17 columns):\n",
            " #   Column         Non-Null Count  Dtype  \n",
            "---  ------         --------------  -----  \n",
            " 0   Index          1000 non-null   int64  \n",
            " 1   Poster_Link    1000 non-null   object \n",
            " 2   Series_Title   1000 non-null   object \n",
            " 3   Released_Year  1000 non-null   object \n",
            " 4   Certificate    899 non-null    object \n",
            " 5   Runtime        1000 non-null   object \n",
            " 6   Genre          1000 non-null   object \n",
            " 7   IMDB_Rating    1000 non-null   float64\n",
            " 8   Overview       1000 non-null   object \n",
            " 9   Meta_score     843 non-null    float64\n",
            " 10  Director       1000 non-null   object \n",
            " 11  Star1          1000 non-null   object \n",
            " 12  Star2          1000 non-null   object \n",
            " 13  Star3          1000 non-null   object \n",
            " 14  Star4          1000 non-null   object \n",
            " 15  No_of_Votes    1000 non-null   int64  \n",
            " 16  Gross          831 non-null    object \n",
            "dtypes: float64(2), int64(2), object(13)\n",
            "memory usage: 132.9+ KB\n"
          ]
        }
      ],
      "source": [
        "# information about dataset\n",
        "\n",
        "dataset.info()"
      ]
    },
    {
      "cell_type": "code",
      "execution_count": 332,
      "metadata": {
        "colab": {
          "base_uri": "https://localhost:8080/"
        },
        "id": "pXQ17s833abq",
        "outputId": "4c31e4f4-d67f-44d6-a41f-9bae73608f92"
      },
      "outputs": [
        {
          "data": {
            "text/plain": [
              "Index              0\n",
              "Poster_Link        0\n",
              "Series_Title       0\n",
              "Released_Year      0\n",
              "Certificate      101\n",
              "Runtime            0\n",
              "Genre              0\n",
              "IMDB_Rating        0\n",
              "Overview           0\n",
              "Meta_score       157\n",
              "Director           0\n",
              "Star1              0\n",
              "Star2              0\n",
              "Star3              0\n",
              "Star4              0\n",
              "No_of_Votes        0\n",
              "Gross            169\n",
              "dtype: int64"
            ]
          },
          "execution_count": 332,
          "metadata": {},
          "output_type": "execute_result"
        }
      ],
      "source": [
        "# checking for null values in dataset\n",
        "\n",
        "dataset.isnull().sum()"
      ]
    },
    {
      "cell_type": "code",
      "execution_count": 333,
      "metadata": {
        "colab": {
          "base_uri": "https://localhost:8080/"
        },
        "id": "qc35vjwMBx1T",
        "outputId": "4ee853f6-9931-4350-e775-ad4bc7327eda"
      },
      "outputs": [
        {
          "data": {
            "text/plain": [
              "427"
            ]
          },
          "execution_count": 333,
          "metadata": {},
          "output_type": "execute_result"
        }
      ],
      "source": [
        "# Total count of null values\n",
        "\n",
        "dataset.isnull().sum().sum()"
      ]
    },
    {
      "cell_type": "code",
      "execution_count": null,
      "metadata": {},
      "outputs": [],
      "source": []
    },
    {
      "cell_type": "code",
      "execution_count": 334,
      "metadata": {
        "colab": {
          "base_uri": "https://localhost:8080/"
        },
        "id": "8aZdFqpeUNqR",
        "outputId": "97d51c90-2af3-49c0-fa30-eb46923aa033"
      },
      "outputs": [
        {
          "name": "stdout",
          "output_type": "stream",
          "text": [
            "0    the shawshank redemption\n",
            "1               the godfather\n",
            "2             the dark knight\n",
            "3      the godfather: part ii\n",
            "4                12 angry men\n",
            "Name: Series_Title, dtype: object\n"
          ]
        }
      ],
      "source": [
        "# changing the title of movies to lowercase \n",
        "\n",
        "dataset['Series_Title'] = dataset['Series_Title'].str.lower()\n",
        "print(dataset['Series_Title'].head())"
      ]
    },
    {
      "cell_type": "code",
      "execution_count": 335,
      "metadata": {
        "colab": {
          "base_uri": "https://localhost:8080/"
        },
        "id": "FA4gxLgfB9XB",
        "outputId": "44171b9d-f03c-464b-c8ec-dbf9fbd4e1fd"
      },
      "outputs": [
        {
          "name": "stdout",
          "output_type": "stream",
          "text": [
            "['Genre', 'Certificate', 'Overview', 'Star1', 'Runtime', 'Director']\n"
          ]
        }
      ],
      "source": [
        "selected_features = ['Genre', 'Certificate', 'Overview', 'Star1','Runtime', \"Director\"]\n",
        "print(selected_features)"
      ]
    },
    {
      "cell_type": "code",
      "execution_count": 336,
      "metadata": {
        "id": "FGzmdoZOCssG"
      },
      "outputs": [],
      "source": [
        "# replacing the null values with null string\n",
        "\n",
        "for features in selected_features :\n",
        "  dataset[features] = dataset[features].fillna('')"
      ]
    },
    {
      "cell_type": "markdown",
      "metadata": {
        "id": "FxQRkKM7DPki"
      },
      "source": [
        "### Combining the selected features "
      ]
    },
    {
      "cell_type": "code",
      "execution_count": 337,
      "metadata": {
        "id": "COo1f8T7D25d"
      },
      "outputs": [],
      "source": [
        "dataset['Runtime'] = dataset['Runtime'].astype(str)"
      ]
    },
    {
      "cell_type": "code",
      "execution_count": 338,
      "metadata": {
        "id": "kHmTDCe0DIh7"
      },
      "outputs": [],
      "source": [
        "combined_features = dataset['Genre']+''+dataset['Certificate']+''+dataset['Overview']+''+dataset['Star1']+''+dataset['Runtime']+''+dataset['Director']"
      ]
    },
    {
      "cell_type": "code",
      "execution_count": 339,
      "metadata": {
        "colab": {
          "base_uri": "https://localhost:8080/"
        },
        "id": "rfbQ8_QrDIgw",
        "outputId": "c9d01652-7e64-4ec0-a8c2-060597692c94"
      },
      "outputs": [
        {
          "data": {
            "text/plain": [
              "0    DramaATwo imprisoned men bond over a number of...\n",
              "1    Crime, DramaAAn organized crime dynasty's agin...\n",
              "2    Action, Crime, DramaUAWhen the menace known as...\n",
              "3    Crime, DramaAThe early life and career of Vito...\n",
              "4    Crime, DramaUA jury holdout attempts to preven...\n",
              "dtype: object"
            ]
          },
          "execution_count": 339,
          "metadata": {},
          "output_type": "execute_result"
        }
      ],
      "source": [
        "combined_features.head()"
      ]
    },
    {
      "cell_type": "code",
      "execution_count": 340,
      "metadata": {
        "colab": {
          "base_uri": "https://localhost:8080/"
        },
        "id": "C_1bIaB_DIex",
        "outputId": "f90e08ca-260d-4e9e-ebbb-bacb279dcd5a"
      },
      "outputs": [
        {
          "name": "stdout",
          "output_type": "stream",
          "text": [
            "0      DramaATwo imprisoned men bond over a number of...\n",
            "1      Crime, DramaAAn organized crime dynasty's agin...\n",
            "2      Action, Crime, DramaUAWhen the menace known as...\n",
            "3      Crime, DramaAThe early life and career of Vito...\n",
            "4      Crime, DramaUA jury holdout attempts to preven...\n",
            "                             ...                        \n",
            "995    Comedy, Drama, RomanceAA young New York social...\n",
            "996    Drama, WesternGSprawling epic covering the lif...\n",
            "997    Drama, Romance, WarPassedIn Hawaii in 1941, a ...\n",
            "998    Drama, WarSeveral survivors of a torpedoed mer...\n",
            "999    Crime, Mystery, ThrillerA man in London tries ...\n",
            "Length: 1000, dtype: object\n"
          ]
        }
      ],
      "source": [
        "print(combined_features )"
      ]
    },
    {
      "cell_type": "markdown",
      "metadata": {
        "id": "myr66c9VELf0"
      },
      "source": [
        "Converting the text data into features vector"
      ]
    },
    {
      "cell_type": "code",
      "execution_count": 341,
      "metadata": {
        "id": "uBh3fyBlDIct"
      },
      "outputs": [],
      "source": [
        "vectorizer = TfidfVectorizer()\n",
        "feature_vector = vectorizer.fit_transform(combined_features )"
      ]
    },
    {
      "cell_type": "code",
      "execution_count": 342,
      "metadata": {
        "colab": {
          "base_uri": "https://localhost:8080/"
        },
        "id": "5P86oAWZDIap",
        "outputId": "948f4d9e-efc8-4dbf-9e96-e60b10e47e0a"
      },
      "outputs": [
        {
          "name": "stdout",
          "output_type": "stream",
          "text": [
            "  (0, 1708)\t0.2505148726124533\n",
            "  (0, 4807)\t0.21443452396919715\n",
            "  (0, 6454)\t0.2654301317345659\n",
            "  (0, 7639)\t0.23993232785188154\n",
            "  (0, 1764)\t0.2654301317345659\n",
            "  (0, 1404)\t0.23993232785188154\n",
            "  (0, 184)\t0.2505148726124533\n",
            "  (0, 7624)\t0.1725198012309844\n",
            "  (0, 6241)\t0.21010180960765623\n",
            "  (0, 2435)\t0.2654301317345659\n",
            "  (0, 377)\t0.05942101324341712\n",
            "  (0, 7032)\t0.2505148726124533\n",
            "  (0, 2718)\t0.2250170687297689\n",
            "  (0, 8349)\t0.1561617863995958\n",
            "  (0, 5509)\t0.11630253532333261\n",
            "  (0, 5471)\t0.2505148726124533\n",
            "  (0, 5604)\t0.1772222227769947\n",
            "  (0, 848)\t0.2027200266596791\n",
            "  (0, 4627)\t0.1710770455217085\n",
            "  (0, 3619)\t0.21443452396919715\n",
            "  (0, 2064)\t0.2505148726124533\n",
            "  (1, 1515)\t0.2251568633942768\n",
            "  (1, 2805)\t0.2048043690714165\n",
            "  (1, 4806)\t0.22011472136437507\n",
            "  (1, 902)\t0.2724611616031378\n",
            "  :\t:\n",
            "  (999, 4712)\t0.1550641804810998\n",
            "  (999, 6599)\t0.1531399002726865\n",
            "  (999, 3379)\t0.13341964658812505\n",
            "  (999, 8194)\t0.10999857145130192\n",
            "  (999, 8197)\t0.14105055473172587\n",
            "  (999, 7760)\t0.13540811626108384\n",
            "  (999, 5249)\t0.11916653364946961\n",
            "  (999, 7229)\t0.1531399002726865\n",
            "  (999, 165)\t0.15933087448603392\n",
            "  (999, 4033)\t0.18782039872938197\n",
            "  (999, 3041)\t0.15133231686594506\n",
            "  (999, 6455)\t0.14648665331473887\n",
            "  (999, 3288)\t0.08825519211456134\n",
            "  (999, 3326)\t0.12297801278526918\n",
            "  (999, 4442)\t0.18814874169288148\n",
            "  (999, 6680)\t0.14648665331473887\n",
            "  (999, 6427)\t0.1671535260220604\n",
            "  (999, 3784)\t0.1510762364703229\n",
            "  (999, 3625)\t0.05739037827970078\n",
            "  (999, 5239)\t0.11857609861766286\n",
            "  (999, 5536)\t0.08411564540152239\n",
            "  (999, 7510)\t0.12738462257957966\n",
            "  (999, 7651)\t0.13795422467241214\n",
            "  (999, 1587)\t0.07889504797694549\n",
            "  (999, 377)\t0.09632566965312175\n"
          ]
        }
      ],
      "source": [
        "print(feature_vector)"
      ]
    },
    {
      "cell_type": "markdown",
      "metadata": {
        "id": "tiTRyyGtICjT"
      },
      "source": [
        "### Cosine Similiarity "
      ]
    },
    {
      "cell_type": "code",
      "execution_count": 343,
      "metadata": {
        "id": "O9hCuhsiDIVk"
      },
      "outputs": [],
      "source": [
        "# similarity confidence value using cosine similiarity\n",
        "\n",
        "similarity = cosine_similarity(feature_vector)\n"
      ]
    },
    {
      "cell_type": "code",
      "execution_count": 344,
      "metadata": {
        "colab": {
          "base_uri": "https://localhost:8080/"
        },
        "id": "ghwaPHTCDIRs",
        "outputId": "eed5966e-e82f-4dd1-c14d-00523c52faba"
      },
      "outputs": [
        {
          "name": "stdout",
          "output_type": "stream",
          "text": [
            "[[1.         0.00694229 0.02290816 ... 0.0031684  0.01806135 0.00572377]\n",
            " [0.00694229 1.         0.03689459 ... 0.01952957 0.00926989 0.02379964]\n",
            " [0.02290816 0.03689459 1.         ... 0.02136934 0.06260187 0.0667727 ]\n",
            " ...\n",
            " [0.0031684  0.01952957 0.02136934 ... 1.         0.02758111 0.03654292]\n",
            " [0.01806135 0.00926989 0.06260187 ... 0.02758111 1.         0.07787157]\n",
            " [0.00572377 0.02379964 0.0667727  ... 0.03654292 0.07787157 1.        ]]\n"
          ]
        }
      ],
      "source": [
        "print(similarity)"
      ]
    },
    {
      "cell_type": "code",
      "execution_count": 345,
      "metadata": {
        "colab": {
          "base_uri": "https://localhost:8080/"
        },
        "id": "AhCg-foVC_Z6",
        "outputId": "4e2a09f9-3971-4f91-9b28-b04641e8d2a5"
      },
      "outputs": [
        {
          "name": "stdout",
          "output_type": "stream",
          "text": [
            "(1000, 1000)\n"
          ]
        }
      ],
      "source": [
        "print(similarity.shape)\n",
        "# compare with all the other movies present there"
      ]
    },
    {
      "cell_type": "code",
      "execution_count": 346,
      "metadata": {
        "colab": {
          "base_uri": "https://localhost:8080/"
        },
        "id": "suh55D8bJcfy",
        "outputId": "12c44d32-230e-454d-c5f2-45d88833f3d1"
      },
      "outputs": [
        {
          "name": "stdout",
          "output_type": "stream",
          "text": [
            "['the shawshank redemption', 'the godfather', 'the dark knight', 'the godfather: part ii', '12 angry men', 'the lord of the rings: the return of the king', 'pulp fiction', \"schindler's list\", 'inception', 'fight club', 'the lord of the rings: the fellowship of the ring', 'forrest gump', 'il buono, il brutto, il cattivo', 'the lord of the rings: the two towers', 'the matrix', 'goodfellas', 'star wars: episode v - the empire strikes back', \"one flew over the cuckoo's nest\", 'hamilton', 'gisaengchung', 'soorarai pottru', 'interstellar', 'cidade de deus', 'sen to chihiro no kamikakushi', 'saving private ryan', 'the green mile', 'la vita è bella', 'se7en', 'the silence of the lambs', 'star wars', 'seppuku', 'shichinin no samurai', \"it's a wonderful life\", 'joker', 'whiplash', 'the intouchables', 'the prestige', 'the departed', 'the pianist', 'gladiator', 'american history x', 'the usual suspects', 'léon', 'the lion king', 'terminator 2: judgment day', 'nuovo cinema paradiso', 'hotaru no haka', 'back to the future', 'once upon a time in the west', 'psycho', 'casablanca', 'modern times', 'city lights', 'capharnaüm', 'ayla: the daughter of war', 'vikram vedha', 'kimi no na wa.', 'dangal', 'spider-man: into the spider-verse', 'avengers: endgame', 'avengers: infinity war', 'coco', 'django unchained', 'the dark knight rises', '3 idiots', 'taare zameen par', 'wall·e', 'the lives of others', 'oldeuboi', 'memento', 'mononoke-hime', 'once upon a time in america', 'raiders of the lost ark', 'the shining', 'apocalypse now', 'alien', 'anand', 'tengoku to jigoku', 'dr. strangelove or: how i learned to stop worrying and love the bomb', 'witness for the prosecution', 'paths of glory', 'rear window', 'sunset blvd.', 'the great dictator', '1917', 'tumbbad', 'andhadhun', 'drishyam', 'jagten', 'jodaeiye nader az simin', 'incendies', 'miracle in cell no.7', 'babam ve oglum', 'inglourious basterds', 'eternal sunshine of the spotless mind', 'amélie', 'snatch', 'requiem for a dream', 'american beauty', 'good will hunting', 'bacheha-ye aseman', 'toy story', 'braveheart', 'reservoir dogs', 'full metal jacket', 'idi i smotri', 'aliens', 'amadeus', 'scarface', 'star wars: episode vi - return of the jedi', 'das boot', 'taxi driver', 'the sting', 'a clockwork orange', '2001: a space odyssey', 'per qualche dollaro in più', 'lawrence of arabia', 'the apartment', 'north by northwest', 'vertigo', \"singin' in the rain\", 'ikiru', 'ladri di biciclette', 'double indemnity', 'citizen kane', 'm - eine stadt sucht einen mörder', 'metropolis', 'the kid', 'chhichhore', 'uri: the surgical strike', 'k.g.f: chapter 1', 'green book', 'three billboards outside ebbing, missouri', 'talvar', 'baahubali 2: the conclusion', 'klaus', 'drishyam', 'queen', 'mandariinid', 'bhaag milkha bhaag', 'gangs of wasseypur', 'udaan', 'paan singh tomar', 'el secreto de sus ojos', 'warrior', 'shutter island', 'up', 'the wolf of wall street', 'chak de! india', 'there will be blood', \"pan's labyrinth\", 'toy story 3', 'v for vendetta', 'rang de basanti', 'black', 'batman begins', 'swades: we, the people', 'der untergang', 'hauru no ugoku shiro', 'a beautiful mind', 'hera pheri', 'lock, stock and two smoking barrels', 'l.a. confidential', 'eskiya', 'heat', 'casino', 'andaz apna apna', 'unforgiven', 'indiana jones and the last crusade', 'dom za vesanje', 'tonari no totoro', 'die hard', 'ran', 'raging bull', 'stalker', 'höstsonaten', 'the message', 'sholay', 'monty python and the holy grail', 'the great escape', 'to kill a mockingbird', 'yôjinbô', 'judgment at nuremberg', 'some like it hot', 'smultronstället', 'det sjunde inseglet', 'du rififi chez les hommes', 'dial m for murder', 'tôkyô monogatari', 'rashômon', 'all about eve', 'the treasure of the sierra madre', 'to be or not to be', 'the gold rush', 'sherlock jr.', 'portrait de la jeune fille en feu', 'pink', 'koe no katachi', 'contratiempo', 'ah-ga-ssi', 'mommy', 'haider', 'logan', 'room', 'relatos salvajes', 'soul', 'kis uykusu', 'pk', 'omg: oh my god!', 'the grand budapest hotel', 'gone girl', 'ôkami kodomo no ame to yuki', 'hacksaw ridge', 'inside out', 'barfi!', '12 years a slave', 'rush', 'ford v ferrari', 'spotlight', 'song of the sea', 'kahaani', 'zindagi na milegi dobara', 'prisoners', 'mad max: fury road', 'a wednesday', 'gran torino', 'harry potter and the deathly hallows: part 2', 'okuribito', \"hachi: a dog's tale\", 'mary and max', 'how to train your dragon', 'into the wild', 'no country for old men', 'lage raho munna bhai', 'million dollar baby', 'hotel rwanda', 'taegukgi hwinalrimyeo', 'before sunset', 'munna bhai m.b.b.s.', 'salinui chueok', 'dil chahta hai', 'kill bill: vol. 1', 'finding nemo', 'catch me if you can', 'amores perros', 'monsters, inc.', 'shin seiki evangelion gekijô-ban: air/magokoro wo, kimi ni', 'lagaan: once upon a time in india', 'the sixth sense', \"la leggenda del pianista sull'oceano\", 'the truman show', 'crna macka, beli macor', 'the big lebowski', 'fa yeung nin wah', 'trainspotting', 'fargo', 'underground', 'la haine', 'dilwale dulhania le jayenge', 'before sunrise', 'trois couleurs: rouge', 'chung hing sam lam', 'jurassic park', 'in the name of the father', 'ba wang bie ji', 'dà hóng denglong gaogao guà', 'dead poets society', 'stand by me', 'platoon', 'paris, texas', 'kaze no tani no naushika', 'the thing', 'pink floyd: the wall', 'fitzcarraldo', 'fanny och alexander', 'blade runner', 'the elephant man', 'life of brian', 'the deer hunter', 'rocky', 'network', 'barry lyndon', 'zerkalo', 'chinatown', 'paper moon', 'viskningar och rop', 'solaris', 'le samouraï', 'cool hand luke', 'persona', 'andrei rublev', 'la battaglia di algeri', 'el ángel exterminador', 'what ever happened to baby jane?', 'sanjuro', 'the man who shot liberty valance', 'ivanovo detstvo', 'jungfrukällan', 'inherit the wind', 'les quatre cents coups', 'ben-hur', 'kakushi-toride no san-akunin', 'le notti di cabiria', 'kumonosu-jô', 'the bridge on the river kwai', 'on the waterfront', 'le salaire de la peur', 'ace in the hole', 'white heat', 'the third man', 'the red shoes', 'the shop around the corner', 'rebecca', 'mr. smith goes to washington', 'gone with the wind', 'la grande illusion', 'it happened one night', \"la passion de jeanne d'arc\", 'the circus', 'sunrise: a song of two humans', 'the general', 'das cabinet des dr. caligari', 'badhaai ho', 'togo', 'airlift', 'bajrangi bhaijaan', 'baby', 'la la land', 'lion', 'the martian', 'zootopia', 'bãhubali: the beginning', 'kaguyahime no monogatari', 'wonder', 'gully boy', 'special chabbis', 'short term 12', 'serbuan maut 2: berandal', 'the imitation game', 'guardians of the galaxy', 'blade runner 2049', 'her', 'bohemian rhapsody', 'the revenant', 'the perks of being a wallflower', 'tropa de elite 2: o inimigo agora é outro', \"the king's speech\", 'the help', 'deadpool', 'darbareye elly', 'dev.d', 'yip man', 'my name is khan', 'nefes: vatan sagolsun', 'slumdog millionaire', 'black swan', 'tropa de elite', 'the avengers', 'persepolis', 'dallas buyers club', 'the pursuit of happyness', 'blood diamond', 'the bourne ultimatum', 'bin-jip', 'sin city', 'le scaphandre et le papillon', 'g.o.r.a.', 'ratatouille', 'casino royale', 'kill bill: vol. 2', 'vozvrashchenie', 'bom yeoareum gaeul gyeoul geurigo bom', 'mar adentro', 'cinderella man', 'kal ho naa ho', 'mou gaan dou', 'pirates of the caribbean: the curse of the black pearl', 'big fish', 'the incredibles', 'yeopgijeogin geunyeo', 'dogville', 'vizontele', 'donnie darko', 'magnolia', 'dancer in the dark', 'the straight story', 'pâfekuto burû', 'festen', 'central do brasil', 'the iron giant', \"knockin' on heaven's door\", 'sling blade', 'secrets & lies', 'twelve monkeys', 'kôkaku kidôtai', 'the nightmare before christmas', 'groundhog day', 'bound by honor', 'scent of a woman', 'aladdin', 'jfk', 'beauty and the beast', 'dances with wolves', 'do the right thing', 'rain man', 'akira', 'the princess bride', 'der himmel über berlin', 'au revoir les enfants', 'tenkû no shiro rapyuta', 'the terminator', 'gandhi', 'kagemusha', 'being there', 'annie hall', 'jaws', 'dog day afternoon', 'young frankenstein', 'papillon', 'the exorcist', 'sleuth', 'the last picture show', 'fiddler on the roof', 'il conformista', 'butch cassidy and the sundance kid', \"rosemary's baby\", 'planet of the apes', 'the graduate', \"who's afraid of virginia woolf?\", 'the sound of music', 'doctor zhivago', 'per un pugno di dollari', '8½', 'vivre sa vie: film en douze tableaux', 'the hustler', 'la dolce vita', 'rio bravo', 'anatomy of a murder', 'touch of evil', 'cat on a hot tin roof', 'sweet smell of success', 'the killing', 'the night of the hunter', 'la strada', 'les diaboliques', 'stalag 17', 'roman holiday', 'a streetcar named desire', 'in a lonely place', 'kind hearts and coronets', 'rope', 'out of the past', 'brief encounter', 'laura', 'the best years of our lives', 'arsenic and old lace', 'the maltese falcon', 'the grapes of wrath', 'the wizard of oz', 'la règle du jeu', 'the thin man', 'all quiet on the western front', 'bronenosets potemkin', 'knives out', 'dil bechara', 'manbiki kazoku', 'marriage story', 'call me by your name', 'i, daniel blake', 'isle of dogs', 'hunt for the wilderpeople', 'captain fantastic', 'sing street', 'thor: ragnarok', 'nightcrawler', 'jojo rabbit', 'arrival', 'star wars: episode vii - the force awakens', 'before midnight', 'x-men: days of future past', \"bir zamanlar anadolu'da\", 'the artist', 'edge of tomorrow', 'amour', 'the irishman', 'un prophète', 'moon', 'låt den rätte komma in', 'district 9', 'the wrestler', 'jab we met', 'boyhood', '4 luni, 3 saptamâni si 2 zile', 'star trek', 'in bruges', 'the man from earth', 'letters from iwo jima', 'the fall', 'life of pi', 'fantastic mr. fox', 'c.r.a.z.y.', 'les choristes', 'iron man', 'shaun of the dead', 'gegen die wand', 'mystic river', 'harry potter and the prisoner of azkaban', 'ying xiong', 'hable con ella', \"no man's land\", 'cowboy bebop: tengoku no tobira', 'the bourne identity', 'nueve reinas', 'children of men', 'almost famous', 'mulholland dr.', 'toy story 2', 'boogie nights', 'mimi wo sumaseba', 'once were warriors', 'true romance', 'trois couleurs: bleu', 'jûbê ninpûchô', \"carlito's way\", 'edward scissorhands', 'my left foot: the story of christy brown', 'crimes and misdemeanors', 'the untouchables', 'hannah and her sisters', 'brazil', 'this is spinal tap', 'a christmas story', 'the blues brothers', 'manhattan', 'all that jazz', 'dawn of the dead', \"all the president's men\", 'la montaña sagrada', 'amarcord', 'le charme discret de la bourgeoisie', 'aguirre, der zorn gottes', 'harold and maude', 'patton', 'the wild bunch', 'night of the living dead', 'the lion in winter', 'in the heat of the night', 'charade', 'the manchurian candidate', 'spartacus', \"l'avventura\", 'hiroshima mon amour', 'the ten commandments', 'the searchers', 'east of eden', 'high noon', 'strangers on a train', 'harvey', 'miracle on 34th street', 'notorious', 'the big sleep', 'the lost weekend', 'the philadelphia story', 'his girl friday', 'the adventures of robin hood', 'a night at the opera', 'king kong', 'freaks', 'nosferatu', 'the gentlemen', 'raazi', 'sound of metal', 'forushande', 'dunkirk', 'perfetti sconosciuti', 'hidden figures', 'paddington 2', 'udta punjab', 'kubo and the two strings', 'm.s. dhoni: the untold story', 'manchester by the sea', 'under sandet', 'rogue one', 'captain america: civil war', 'the hateful eight', 'little women', 'loving vincent', 'pride', 'le passé', 'la grande bellezza', 'the lunchbox', 'vicky donor', 'big hero 6', 'about time', 'english vinglish', 'kaze tachinu', 'toy story 4', 'la migliore offerta', 'moonrise kingdom', 'how to train your dragon 2', 'the big short', 'kokuhaku', 'ang-ma-reul bo-at-da', 'the girl with the dragon tattoo', 'captain phillips', 'ajeossi', 'straight outta compton', 'madeo', 'chugyeokja', 'the hobbit: the desolation of smaug', 'das weiße band - eine deutsche kindergeschichte', 'män som hatar kvinnor', 'the trial of the chicago 7', 'druk', 'the fighter', 'taken', 'the boy in the striped pyjamas', 'once', 'the hobbit: an unexpected journey', 'auf der anderen seite', 'atonement', 'drive', 'american gangster', 'avatar', 'mr. nobody', 'apocalypto', 'little miss sunshine', 'hot fuzz', 'the curious case of benjamin button', 'veer-zaara', 'adams æbler', 'pride & prejudice', \"the world's fastest indian\", 'tôkyô goddofâzâzu', 'serenity', 'walk the line', 'ondskan', 'the notebook', 'diarios de motocicleta', 'lilja 4-ever', 'les triplettes de belleville', 'gongdong gyeongbi guyeok jsa', 'the count of monte cristo', 'waking life', 'remember the titans', 'wo hu cang long', 'todo sobre mi madre', 'cast away', 'the boondock saints', 'the insider', 'october sky', 'shrek', 'titanic', 'hana-bi', 'gattaca', 'the game', 'breaking the waves', 'ed wood', \"what's eating gilbert grape\", 'tombstone', 'the sandlot', 'the remains of the day', 'naked', 'the fugitive', 'a bronx tale', 'batman: mask of the phantasm', 'lat sau san taam', 'night on earth', 'la double vie de véronique', 'boyz n the hood', 'misery', 'awakenings', 'majo no takkyûbin', 'glory', 'dip huet seung hung', 'back to the future part ii', 'mississippi burning', 'predator', 'evil dead ii', \"ferris bueller's day off\", 'down by law', 'the goonies', 'the color purple', 'the breakfast club', 'the killing fields', 'ghostbusters', 'the right stuff', 'the king of comedy', 'e.t. the extra-terrestrial', 'kramer vs. kramer', 'days of heaven', 'the outlaw josey wales', 'the man who would be king', 'the conversation', 'la planète sauvage', 'the day of the jackal', 'badlands', 'cabaret', 'willy wonka & the chocolate factory', 'midnight cowboy', 'wait until dark', \"guess who's coming to dinner\", 'bonnie and clyde', 'my fair lady', 'mary poppins', 'the longest day', 'jules et jim', 'the innocents', 'à bout de souffle', 'red river', 'key largo', 'to have and have not', 'shadow of a doubt', 'stagecoach', 'the lady vanishes', 'bringing up baby', 'bride of frankenstein', 'duck soup', 'scarface: the shame of the nation', 'frankenstein', 'roma', \"god's own country\", 'deadpool 2', 'wind river', 'get out', 'mission: impossible - fallout', 'en man som heter ove', 'what we do in the shadows', 'omoide no mânî', 'the theory of everything', 'kingsman: the secret service', 'the fault in our stars', 'me and earl and the dying girl', 'birdman or (the unexpected virtue of ignorance)', \"la vie d'adèle\", 'kai po che!', 'the broken circle breakdown', 'captain america: the winter soldier', 'rockstar', 'nebraska', 'wreck-it ralph', 'le petit prince', 'detachment', 'midnight in paris', 'the lego movie', 'gravity', 'star trek into darkness', 'beasts of no nation', 'the social network', 'x: first class', 'the hangover', 'skyfall', 'silver linings playbook', 'argo', '(500) days of summer', 'harry potter and the deathly hallows: part 1', 'gake no ue no ponyo', 'frost/nixon', 'papurika', 'changeling', 'flipped', 'toki o kakeru shôjo', 'death note: desu nôto', 'this is england', 'ex machina', 'efter brylluppet', 'the last king of scotland', 'zodiac', 'lucky number slevin', 'joyeux noël', 'control', 'tangled', 'zwartboek', 'brokeback mountain', '3:10 to yuma', 'crash', 'kung fu', 'the bourne supremacy', 'the machinist', 'ray', 'lost in translation', 'harry potter and the goblet of fire', 'man on fire', 'coraline', 'the last samurai', 'the magdalene sisters', 'good bye lenin!', 'in america', 'i am sam', 'adaptation.', 'black hawk down', 'road to perdition', 'das experiment', 'billy elliot', 'hedwig and the angry inch', \"ocean's eleven\", 'vampire hunter d: bloodlust', 'o brother, where art thou?', 'interstate 60: episodes of the road', 'south park: bigger, longer & uncut', 'office space', 'happiness', 'training day', 'rushmore', 'abre los ojos', 'being john malkovich', 'as good as it gets', 'the fifth element', 'le dîner de cons', 'donnie brasco', 'shine', 'primal fear', 'hamlet', 'a little princess', 'do lok tin si', 'il postino', 'clerks', 'short cuts', 'philadelphia', 'the muppet christmas carol', 'malcolm x', 'the last of the mohicans', 'kurenai no buta', 'glengarry glen ross', 'a few good men', 'fried green tomatoes', 'barton fink', \"miller's crossing\", 'who framed roger rabbit', 'spoorloos', 'withnail & i', 'the last emperor', 'empire of the sun', 'der name der rose', 'blue velvet', 'the purple rose of cairo', 'after hours', 'zelig', 'the verdict', 'star trek ii: the wrath of khan', 'first blood', 'ordinary people', 'airplane!', 'rupan sansei: kariosutoro no shiro', 'halloween', 'le locataire', 'love and death', 'the taking of pelham one two three', 'blazing saddles', 'serpico', 'enter the dragon', 'deliverance', 'the french connection', 'dirty harry', 'where eagles dare', 'the odd couple', 'the dirty dozen', 'belle de jour', 'a man for all seasons', 'repulsion', 'zulu', 'goldfinger', 'the birds', 'cape fear', 'peeping tom', 'the magnificent seven', 'les yeux sans visage', 'invasion of the body snatchers', 'rebel without a cause', 'the ladykillers', 'sabrina', 'the quiet man', 'the day the earth stood still', 'the african queen', 'gilda', 'fantasia', 'the invisible man', 'dark waters', 'searching', 'once upon a time... in hollywood', 'nelyubov', 'the florida project', 'just mercy', 'gifted', 'the peanut butter falcon', 'victoria', 'mustang', 'guardians of the galaxy vol. 2', 'baby driver', 'only the brave', 'bridge of spies', 'incredibles 2', 'moana', 'sicario', 'creed', 'leviafan', 'hell or high water', 'philomena', 'dawn of the planet of the apes', 'el cuerpo', 'serbuan maut', 'end of watch', 'kari-gurashi no arietti', 'a star is born', 'true grit', 'hævnen', 'despicable me', '50/50', 'kick-ass', 'celda 211', 'moneyball', 'la piel que habito', 'zombieland', 'die welle', 'sherlock holmes', 'the blind side', 'the visitor', 'seven pounds', 'eastern promises', 'stardust', 'the secret of kells', 'inside man', 'gone baby gone', 'la vie en rose', 'huo yuan jia', 'the illusionist', \"dead man's shoes\", 'harry potter and the half-blood prince', '300', 'match point', 'watchmen', 'lord of war', 'saw', 'synecdoche, new york', 'mysterious skin', \"jeux d'enfants\", 'un long dimanche de fiançailles', 'the station agent', '21 grams', 'boksuneun naui geot', 'finding neverland', '25th hour', 'the butterfly effect', '28 days later...', 'batoru rowaiaru', 'the royal tenenbaums', 'y tu mamá también', \"harry potter and the sorcerer's stone\", 'the others', 'blow', 'enemy at the gates', 'minority report', 'the hurricane', 'american psycho', 'lola rennt', 'the thin red line', 'mulan', 'fear and loathing in las vegas', 'funny games', 'dark city', 'sleepers', 'lost highway', 'sense and sensibility', 'die hard: with a vengeance', 'dead man', 'the bridges of madison county', 'apollo 13', 'trois couleurs: blanc', 'falling down', 'dazed and confused', 'my cousin vinny', 'omohide poro poro', 'delicatessen', 'home alone', 'the godfather: part iii', 'when harry met sally...', 'the little mermaid', 'the naked gun: from the files of police squad!', 'planes, trains & automobiles', 'lethal weapon', 'blood simple', 'on golden pond', 'mad max 2', 'the warriors', 'the muppet movie', 'escape from alcatraz', 'watership down', 'midnight express', 'close encounters of the third kind', 'the long goodbye', 'giù la testa', \"kelly's heroes\", 'the jungle book', 'blowup', \"a hard day's night\", \"breakfast at tiffany's\", 'giant', 'from here to eternity', 'lifeboat', 'the 39 steps']\n"
          ]
        }
      ],
      "source": [
        "# creating a list with all the moviee names in dataset\n",
        "\n",
        "list_of_all_titles = dataset['Series_Title'].tolist()\n",
        "print(list_of_all_titles)"
      ]
    },
    {
      "cell_type": "markdown",
      "metadata": {
        "id": "bx6dJUH3RZGT"
      },
      "source": [
        "## Recommedation"
      ]
    },
    {
      "cell_type": "code",
      "execution_count": 347,
      "metadata": {
        "colab": {
          "base_uri": "https://localhost:8080/"
        },
        "id": "HgT_u7pAIfyK",
        "outputId": "fe9a136a-4dbe-459f-8c7d-c99a427d7745"
      },
      "outputs": [],
      "source": [
        "# getting the name as input for recommendation\n",
        "\n",
        "movie_name = input('Enter your favourite movie name : ')"
      ]
    },
    {
      "cell_type": "code",
      "execution_count": 348,
      "metadata": {
        "colab": {
          "base_uri": "https://localhost:8080/"
        },
        "id": "5GlIJnpJJZA5",
        "outputId": "e7e15f34-510c-4861-8f98-f7813d9b5d76"
      },
      "outputs": [
        {
          "name": "stdout",
          "output_type": "stream",
          "text": [
            "['interstellar', 'the wrestler', 'the hustler']\n"
          ]
        }
      ],
      "source": [
        "# finding the movie name given by the user\n",
        "\n",
        "find_close_match = difflib.get_close_matches(movie_name, list_of_all_titles)\n",
        "print(find_close_match)"
      ]
    },
    {
      "cell_type": "code",
      "execution_count": 349,
      "metadata": {
        "colab": {
          "base_uri": "https://localhost:8080/"
        },
        "id": "jM9zGJXUJxN4",
        "outputId": "4aee13e9-1d83-44a3-9401-60406564fb03"
      },
      "outputs": [
        {
          "name": "stdout",
          "output_type": "stream",
          "text": [
            "interstellar\n"
          ]
        }
      ],
      "source": [
        "close_match = find_close_match[0]\n",
        "print(close_match)"
      ]
    },
    {
      "cell_type": "code",
      "execution_count": 350,
      "metadata": {
        "colab": {
          "base_uri": "https://localhost:8080/"
        },
        "id": "SoK5rq0MKOSM",
        "outputId": "22f6e6e9-53b5-4696-808f-20ce1470a358"
      },
      "outputs": [
        {
          "name": "stdout",
          "output_type": "stream",
          "text": [
            "22\n"
          ]
        }
      ],
      "source": [
        "# Index of movie with title and data\n",
        "\n",
        "index_of_movie = dataset[dataset.Series_Title == close_match]['Index'].values[0]\n",
        "# we are finding the index of movie by comparing the title of each movie with closly matched string and returing its index \n",
        "print(index_of_movie)"
      ]
    },
    {
      "cell_type": "code",
      "execution_count": 351,
      "metadata": {
        "colab": {
          "base_uri": "https://localhost:8080/"
        },
        "id": "t3Hul74GKqv2",
        "outputId": "e62185ec-f839-4c34-a4f4-947bb44336b9"
      },
      "outputs": [
        {
          "name": "stdout",
          "output_type": "stream",
          "text": [
            "[(0, 0.010591116886424928), (1, 0.026983010999941468), (2, 0.07417067422367887), (3, 0.03298816165265901), (4, 0.02653499981995562), (5, 0.05578942517311759), (6, 0.05019105497319811), (7, 0.0050656632075965526), (8, 0.02470536898123979), (9, 0.0031939648265096746), (10, 0.044856492118687086), (11, 0.04812818808121332), (12, 0.020529456947039598), (13, 0.0287399424464006), (14, 0.019936530550226393), (15, 0.03599261492224309), (16, 0.019058243535115267), (17, 0.020739786499837924), (18, 0.03961405190780181), (19, 0.02132907686416726), (20, 0.02457815261710818), (21, 0.007510880453691342), (22, 1.0), (23, 0.014238996130843899), (24, 0.012487722592934462), (25, 0.04374935784065049), (26, 0.04853949134107072), (27, 0.035210443013151196), (28, 0.02297503704259558), (29, 0.03562630621390407), (30, 0.016049302422171088), (31, 0.00367414408472386), (32, 0.003013423302044658), (33, 0.02938978066793898), (34, 0.005633284866494162), (35, 0.00923052626308921), (36, 0.05252193503258639), (37, 0.050058350970849104), (38, 0.06317563672919285), (39, 0.013407463225304585), (40, 0.009279164616563869), (41, 0.019363040838219665), (42, 0.02828862154376048), (43, 0.013118862641005728), (44, 0.031203940437314892), (45, 0.021245128491496443), (46, 0.008394786410342133), (47, 0.009639582021235608), (48, 0.008839188515349199), (49, 0.01601628978361538), (50, 0.04590867860427908), (51, 0.05778614395514732), (52, 0.013766604151933662), (53, 0.009650474464788549), (54, 0.022559369838324753), (55, 0.024422758323536596), (56, 0.008609056827636399), (57, 0.03225504084511194), (58, 0.03603218841545185), (59, 0.03365198512772683), (60, 0.02786851590552398), (61, 0.016113400990222588), (62, 0.012799396267128383), (63, 0.028756973925184205), (64, 0.03572220510189289), (65, 0.05370591589000624), (66, 0.014148455950650661), (67, 0.01142608400317749), (68, 0.006169649715263207), (69, 0.003949700253200431), (70, 0.026395827682193004), (71, 0.030299568602588183), (72, 0.02374073788038061), (73, 0.01645827829861618), (74, 0.013687144649332048), (75, 0.038928262928897846), (76, 0.035160550751039285), (77, 0.021270962400244307), (78, 0.013646081074400344), (79, 0.009922947793386264), (80, 0.01671871834756924), (81, 0.09038913488268187), (82, 0.003590248279932438), (83, 0.0059280550812395435), (84, 0.032911644500365475), (85, 0.014721956425947067), (86, 0.034455626092651834), (87, 0.034831293758626536), (88, 0.02059631600315673), (89, 0.01897155633454692), (90, 0.018012865670508797), (91, 0.015254401945533246), (92, 0.013159573411018312), (93, 0.011059660343337097), (94, 0.02864580196132883), (95, 0.018926774843470516), (96, 0.006226137082325837), (97, 0.0036322026194519842), (98, 0.0), (99, 0.003348454149153115), (100, 0.011408426068502736), (101, 0.017376585311516556), (102, 0.016008582654635048), (103, 0.04348960265608104), (104, 0.017996080178842726), (105, 0.01721717667727924), (106, 0.009644378284991225), (107, 0.029065669886642907), (108, 0.07580821909651576), (109, 0.056226648711807665), (110, 0.00772842490264024), (111, 0.03137967156309599), (112, 0.02320304471459405), (113, 0.032897644537146276), (114, 0.007949263693901278), (115, 0.010453296296611816), (116, 0.02551803391242748), (117, 0.010343001573681173), (118, 0.009645376973529175), (119, 0.00392305050044508), (120, 0.0076016461898446835), (121, 0.004020501832855891), (122, 0.0074968725899160205), (123, 0.014556461137270786), (124, 0.020191004586975127), (125, 0.05473681519918738), (126, 0.030832199107842552), (127, 0.0), (128, 0.01781817139077478), (129, 0.008456164836803866), (130, 0.025733024443669403), (131, 0.016469889574914007), (132, 0.028999910974126616), (133, 0.01933222574160249), (134, 0.01686201796469553), (135, 0.007479534250804694), (136, 0.03846195740593894), (137, 0.0), (138, 0.011919605519128448), (139, 0.01794039364343864), (140, 0.01685420835366148), (141, 0.00787927283256918), (142, 0.031712832417681906), (143, 0.02682311169570304), (144, 0.007390497107461784), (145, 0.016424607137724846), (146, 0.0032529201982090055), (147, 0.0469319120357965), (148, 0.018542460181963944), (149, 0.031313677167550596), (150, 0.015907717134717114), (151, 0.04616338619226167), (152, 0.021349530654534436), (153, 0.03583690748954386), (154, 0.015129770224411882), (155, 0.01467119921131543), (156, 0.018426277887587786), (157, 0.021412026798504073), (158, 0.00989952118513231), (159, 0.005774398769552355), (160, 0.0065286968311959424), (161, 0.046935502926062383), (162, 0.07052857564501783), (163, 0.021250603115768534), (164, 0.022040324707528407), (165, 0.05346713325859096), (166, 0.041749593511796274), (167, 0.03636578883360127), (168, 0.006431475546731867), (169, 0.0337446188487437), (170, 0.03516985164116043), (171, 0.011917004746712433), (172, 0.035848242042115154), (173, 0.02518824632447202), (174, 0.04413548346254652), (175, 0.006183300275878396), (176, 0.03278809792292298), (177, 0.03852919632700887), (178, 0.015974801162407716), (179, 0.01096919080479142), (180, 0.018345730575782926), (181, 0.06509432787520979), (182, 0.0), (183, 0.035182343091437404), (184, 0.013647848291297176), (185, 0.035606261659626874), (186, 0.029075967078736328), (187, 0.020246964482804913), (188, 0.010507044513964881), (189, 0.044308636506446564), (190, 0.015473052714723549), (191, 0.008741878657506235), (192, 0.012096119939002874), (193, 0.024999540655310744), (194, 0.009458257112342983), (195, 0.02013344551036458), (196, 0.013072385589484592), (197, 0.008013771876279632), (198, 0.018312799808444555), (199, 0.02082393246129314), (200, 0.0), (201, 0.01906177078195649), (202, 0.008593884745809643), (203, 0.022182478932828473), (204, 0.009699538361551512), (205, 0.017518276627122097), (206, 0.006943206899602407), (207, 0.025334750204839294), (208, 0.003735564745584899), (209, 0.026720873837332237), (210, 0.04088940945120436), (211, 0.009359613752787141), (212, 0.02715930072630168), (213, 0.013796321172256005), (214, 0.006868999645957271), (215, 0.008880152955532166), (216, 0.026831678504456734), (217, 0.023104356749065417), (218, 0.03672454612646225), (219, 0.0210565744506407), (220, 0.003092661086723593), (221, 0.02984582663531156), (222, 0.03921576878254432), (223, 0.014391528184341664), (224, 0.02887946959505127), (225, 0.005155437971496744), (226, 0.03138977278047926), (227, 0.006278640078914216), (228, 0.0), (229, 0.027489345845823382), (230, 0.02222638301196965), (231, 0.021099021842357787), (232, 0.08458898968128904), (233, 0.0035157096562430674), (234, 0.041032684654188134), (235, 0.005120349599709916), (236, 0.04132496481329033), (237, 0.03734220102150241), (238, 0.008494206565480769), (239, 0.035212006959829525), (240, 0.009263080878734762), (241, 0.02008967380758606), (242, 0.015660396693122587), (243, 0.03265918698206561), (244, 0.011979439125689134), (245, 0.02103431425216256), (246, 0.009594941468312813), (247, 0.007017984490217877), (248, 0.010522103581691446), (249, 0.0), (250, 0.0), (251, 0.040253111537669105), (252, 0.02831019306927932), (253, 0.02012114347760162), (254, 0.03253011775614407), (255, 0.040986662956454895), (256, 0.012433532668845209), (257, 0.034007028882954315), (258, 0.002652968343393662), (259, 0.024921317126747358), (260, 0.0), (261, 0.05521540002481736), (262, 0.05874971885712505), (263, 0.037034805315411076), (264, 0.010025368070767239), (265, 0.030519858502454828), (266, 0.010181475373737432), (267, 0.05008945322705592), (268, 0.0850347219541837), (269, 0.015334422725004022), (270, 0.064180254862224), (271, 0.009066415559020746), (272, 0.012725173783185419), (273, 0.0154504833016505), (274, 0.02107163935896142), (275, 0.013013817564250206), (276, 0.016991079026077115), (277, 0.01691546037121266), (278, 0.026241201944926493), (279, 0.010843162618305782), (280, 0.008743971643038029), (281, 0.012386327489952808), (282, 0.024897622476235316), (283, 0.011068747310288132), (284, 0.0400080777529456), (285, 0.03372491311052994), (286, 0.015488912182971661), (287, 0.011910911530020645), (288, 0.03841495157879926), (289, 0.007835082832084199), (290, 0.013466848552442935), (291, 0.03977047541112319), (292, 0.0037005098768888426), (293, 0.0), (294, 0.0073637824805222575), (295, 0.029842529847868088), (296, 0.021687179682789222), (297, 0.038998108290709724), (298, 0.04675029604328624), (299, 0.027574626660166246), (300, 0.00746539354219298), (301, 0.024277318561131116), (302, 0.009926536852550138), (303, 0.03591493020097397), (304, 0.015632147087737615), (305, 0.05532793608738003), (306, 0.007912014213434395), (307, 0.009982004707841824), (308, 0.013160451225257965), (309, 0.01406580056532487), (310, 0.045348820007160257), (311, 0.0594774629458338), (312, 0.01931946883036125), (313, 0.008419444858736098), (314, 0.013501556675347758), (315, 0.023239049621386645), (316, 0.05768320331776114), (317, 0.015037450226709468), (318, 0.017244253583168702), (319, 0.0635436895586379), (320, 0.0034557847809252636), (321, 0.0037236856452186576), (322, 0.0), (323, 0.02120624829290608), (324, 0.005022055947778874), (325, 0.006459616656244223), (326, 0.03424336524607859), (327, 0.012252412152939055), (328, 0.005828764622999233), (329, 0.012207420003906375), (330, 0.010102634245349181), (331, 0.02392047191438054), (332, 0.019238792306297194), (333, 0.022701491131752554), (334, 0.01456991998250804), (335, 0.03478776717082875), (336, 0.013945647199701528), (337, 0.041111521806289436), (338, 0.013463920276054014), (339, 0.016571310509843062), (340, 0.005618173374559437), (341, 0.0032563741950549594), (342, 0.014467185096676279), (343, 0.011387601380644662), (344, 0.03964251930427408), (345, 0.055047130021941476), (346, 0.03106674476476596), (347, 0.03165705386083607), (348, 0.015965139877271477), (349, 0.015128695025785142), (350, 0.007924371943345252), (351, 0.029569804471254048), (352, 0.022768102749726567), (353, 0.003919075883246165), (354, 0.016239072696217542), (355, 0.04726358316479104), (356, 0.07147457078890923), (357, 0.0289949964646322), (358, 0.010343235088253404), (359, 0.020387160168669687), (360, 0.023349878707188586), (361, 0.017380153408353485), (362, 0.026124061487789833), (363, 0.021363713436228653), (364, 0.028133289399803182), (365, 0.008349478648098829), (366, 0.015794252996721637), (367, 0.0), (368, 0.01771766013311247), (369, 0.04882031966711817), (370, 0.026308598122776587), (371, 0.010244206302655458), (372, 0.013061518932353838), (373, 0.04797102042781897), (374, 0.0025118763209282255), (375, 0.038164216440571753), (376, 0.007331422465503884), (377, 0.010626755433936812), (378, 0.023321467617551876), (379, 0.013796396432035436), (380, 0.02335457557009413), (381, 0.00754694507689126), (382, 0.009243220471185327), (383, 0.017057869463387446), (384, 0.023525273337816937), (385, 0.003960745748391752), (386, 0.044338585002704385), (387, 0.0), (388, 0.02411811462571306), (389, 0.003491078246803515), (390, 0.02006642791155667), (391, 0.00986686996555477), (392, 0.007849274457088991), (393, 0.020657305473302832), (394, 0.013545133995816477), (395, 0.009447650870294387), (396, 0.010300292226164784), (397, 0.026724330156579476), (398, 0.009103031623551586), (399, 0.010953725838418237), (400, 0.014549368544766806), (401, 0.020390303711506918), (402, 0.011610972125287194), (403, 0.027103107477764316), (404, 0.009264212080182726), (405, 0.020900896796134032), (406, 0.013670291770907603), (407, 0.040134295016166846), (408, 0.02129538606518348), (409, 0.007406489372755927), (410, 0.01845756004186013), (411, 0.03180654390973369), (412, 0.030547470139215924), (413, 0.006747582905117661), (414, 0.006418898885497946), (415, 0.014873962660554234), (416, 0.031018032637599578), (417, 0.04190631139151269), (418, 0.05829762144855852), (419, 0.03294435904401019), (420, 0.010119888234855963), (421, 0.009579757134549664), (422, 0.0032152129674452596), (423, 0.011601167887889834), (424, 0.03094303109215256), (425, 0.0), (426, 0.020938963800585852), (427, 0.004282176168032292), (428, 0.046126958579274055), (429, 0.05065896394458402), (430, 0.02069850851304478), (431, 0.048826675467740374), (432, 0.004546660178735857), (433, 0.013896765381620163), (434, 0.003900797688376458), (435, 0.014029220158805911), (436, 0.03300526937443355), (437, 0.027662702745282354), (438, 0.01822478503856909), (439, 0.01935491890910994), (440, 0.0), (441, 0.018004350234031723), (442, 0.016329958098201418), (443, 0.013090219425879053), (444, 0.025999010848991568), (445, 0.026744593449786497), (446, 0.007911173333496469), (447, 0.0031560241107728404), (448, 0.0031113119849889856), (449, 0.053241862297642606), (450, 0.03287295991394831), (451, 0.02313158969306652), (452, 0.003972196774464843), (453, 0.006866860380548109), (454, 0.010228661067672905), (455, 0.01950858134135687), (456, 0.0035716090686129733), (457, 0.024598664368682247), (458, 0.02942919600240672), (459, 0.03253591059730869), (460, 0.022238765317040856), (461, 0.02329876074082226), (462, 0.04066449135907553), (463, 0.028343964348394604), (464, 0.02363924472128069), (465, 0.022599516643412088), (466, 0.007148083868049336), (467, 0.023207348087241376), (468, 0.019627197456913756), (469, 0.007648645805352132), (470, 0.009248056294227551), (471, 0.07617641971716277), (472, 0.013935188438486736), (473, 0.038329968294454383), (474, 0.07186326161592219), (475, 0.0), (476, 0.014702729405016834), (477, 0.04111970646905407), (478, 0.020591341430253658), (479, 0.01812073607924053), (480, 0.025553704408679954), (481, 0.00984914097014199), (482, 0.01723169149098877), (483, 0.02863724112426804), (484, 0.016308040699264097), (485, 0.01804536094509164), (486, 0.015170466236080673), (487, 0.01813817126279996), (488, 0.005787776250405963), (489, 0.006001985894992306), (490, 0.0040565689337778), (491, 0.008962654446718642), (492, 0.0), (493, 0.04614758326111135), (494, 0.02348210242874278), (495, 0.010504911182829079), (496, 0.04708745027613381), (497, 0.03686786963261921), (498, 0.005902773532851164), (499, 0.011695517885341112), (500, 0.0459857219384711), (501, 0.008812006035445515), (502, 0.005786950729781307), (503, 0.007118255645333731), (504, 0.020049425156924792), (505, 0.04364249227685957), (506, 0.026138614580744596), (507, 0.012344460797642884), (508, 0.020183889687769286), (509, 0.07206975760820584), (510, 0.0209979149008401), (511, 0.012271743733930432), (512, 0.01998867377554995), (513, 0.0328535956340271), (514, 0.02380699773940461), (515, 0.013104230400007567), (516, 0.00816604542800276), (517, 0.007617659242983053), (518, 0.011402589653480448), (519, 0.03663537351990075), (520, 0.030353135541843993), (521, 0.06582354679977057), (522, 0.021384238202524976), (523, 0.028518503821636773), (524, 0.02811443334122366), (525, 0.006782992328751239), (526, 0.006628363616806553), (527, 0.03036455056658455), (528, 0.030961246578766154), (529, 0.03629283212643332), (530, 0.026380478945105583), (531, 0.016150090947778195), (532, 0.012358550094315014), (533, 0.0036272360934270754), (534, 0.0203951866502133), (535, 0.025840859597236723), (536, 0.024184507743285344), (537, 0.01381602307762884), (538, 0.00792408920780363), (539, 0.00959099672831814), (540, 0.017423747617306487), (541, 0.0035180834057201237), (542, 0.013822045046211682), (543, 0.044804242770546496), (544, 0.02099474429326851), (545, 0.017576119684389623), (546, 0.014753938591855401), (547, 0.01620552807112368), (548, 0.01898085909178026), (549, 0.006591410838725111), (550, 0.06732331351411841), (551, 0.01250959454601869), (552, 0.04406218111740827), (553, 0.010919633673832422), (554, 0.003936942029768312), (555, 0.023808605266468705), (556, 0.03357969359650377), (557, 0.0052872385966079), (558, 0.02358637616638323), (559, 0.013237857703335324), (560, 0.018112656499857334), (561, 0.003936682077751186), (562, 0.011789931909832994), (563, 0.009290395428498915), (564, 0.030676246574602935), (565, 0.04264307157945236), (566, 0.012904242583738283), (567, 0.011066152620805063), (568, 0.0037527702045752325), (569, 0.008476548317745889), (570, 0.014457880690595183), (571, 0.0034423217798974495), (572, 0.014210451476713338), (573, 0.01862569911440606), (574, 0.041359367770985846), (575, 0.02093667437213135), (576, 0.02761504823691113), (577, 0.025670744261707134), (578, 0.011419158891694862), (579, 0.017764488424481147), (580, 0.014015107882543072), (581, 0.02102023097288353), (582, 0.02400591485258578), (583, 0.010035599351604828), (584, 0.02471677368546485), (585, 0.018061580451715294), (586, 0.018518022837488615), (587, 0.023967789655952663), (588, 0.023069878089614998), (589, 0.025278548435943113), (590, 0.024247758431280315), (591, 0.008014703750935867), (592, 0.011661101991464508), (593, 0.03853796108865564), (594, 0.012190097731409852), (595, 0.015686860172131414), (596, 0.016193145346117984), (597, 0.012896979438231303), (598, 0.010643395654225216), (599, 0.05129459624322041), (600, 0.06359036075343714), (601, 0.006020586442990049), (602, 0.0178605128986434), (603, 0.009691383971935802), (604, 0.041100173377883444), (605, 0.021127321908026065), (606, 0.021049269645102793), (607, 0.01650134189873583), (608, 0.03552705649547994), (609, 0.015249855162779945), (610, 0.01736020513199154), (611, 0.019477288974564997), (612, 0.013350235456931741), (613, 0.0032250753175031583), (614, 0.02273901968877753), (615, 0.009510132699674555), (616, 0.05154818988394602), (617, 0.022098307428395757), (618, 0.025870633825066495), (619, 0.01944870067564293), (620, 0.019695182064635913), (621, 0.030567185925899486), (622, 0.008674311337376096), (623, 0.01708266065211099), (624, 0.03346576171405992), (625, 0.012333479540881449), (626, 0.01232864844409277), (627, 0.003905851433130052), (628, 0.010711426975080748), (629, 0.00997790462529526), (630, 0.018900398965657976), (631, 0.005299268906346968), (632, 0.0072091984926703125), (633, 0.019852083252591884), (634, 0.039040482864289586), (635, 0.009994386172892954), (636, 0.0281162445015967), (637, 0.006289720141127273), (638, 0.0033090253463536863), (639, 0.03733154747351318), (640, 0.023168604107730813), (641, 0.00435192633513064), (642, 0.0074003780018150785), (643, 0.02369069526593395), (644, 0.02063480350785794), (645, 0.020432645734747668), (646, 0.045649869741924545), (647, 0.003908374310601042), (648, 0.05332203704472878), (649, 0.006726776983101832), (650, 0.011298150296976115), (651, 0.021706539882531805), (652, 0.00575762981945609), (653, 0.02734017048366419), (654, 0.037446109630068794), (655, 0.014356093245850847), (656, 0.0028443079376242724), (657, 0.00672397133288849), (658, 0.04257072966403434), (659, 0.011919492940084073), (660, 0.02062502366271082), (661, 0.016832408092974545), (662, 0.0765742057406775), (663, 0.025681020693755732), (664, 0.023202998114062116), (665, 0.007172983724581349), (666, 0.031387882320439625), (667, 0.01604589328094313), (668, 0.08478911119358792), (669, 0.03164079529083595), (670, 0.02463512748072703), (671, 0.011249675260886192), (672, 0.0031352502521672493), (673, 0.01396801659893766), (674, 0.038617318985365634), (675, 0.009015652460457445), (676, 0.022058629807701135), (677, 0.0037364975028826393), (678, 0.014941716757648282), (679, 0.01316904788639699), (680, 0.028227057186343364), (681, 0.015397928935779948), (682, 0.04567081030361187), (683, 0.003588584479306281), (684, 0.0239849480544524), (685, 0.01507829996542414), (686, 0.031436182725860164), (687, 0.030723808498294414), (688, 0.01779867810836983), (689, 0.019040089144811565), (690, 0.011364072164556531), (691, 0.014865660976431003), (692, 0.020845110537433185), (693, 0.00880828647422837), (694, 0.0), (695, 0.02423134406802182), (696, 0.01798734187546631), (697, 0.025094666926238664), (698, 0.029779043637792258), (699, 0.013011668065352144), (700, 0.0033678896776124954), (701, 0.0038490216317166545), (702, 0.018912882809573636), (703, 0.003112168371273226), (704, 0.0696857310830589), (705, 0.017223492553418585), (706, 0.03230598673903532), (707, 0.03200640630000692), (708, 0.02599428178335829), (709, 0.018308532525584748), (710, 0.0786758440484397), (711, 0.00627550106324018), (712, 0.020857873598887678), (713, 0.04905291474393217), (714, 0.008917402621908417), (715, 0.00925407671967935), (716, 0.007991094831737556), (717, 0.01437241890107365), (718, 0.03127953444819562), (719, 0.01049451223404476), (720, 0.01768898463197812), (721, 0.009417760452745672), (722, 0.009897640655367098), (723, 0.019876183862494415), (724, 0.008054725531031466), (725, 0.0037814633144180815), (726, 0.013242882625965157), (727, 0.016457893263568613), (728, 0.018522686486841477), (729, 0.01791133094887032), (730, 0.005062944477122017), (731, 0.0035041097008870438), (732, 0.005169252240864527), (733, 0.006874353435357551), (734, 0.032713065095923796), (735, 0.02478761653689754), (736, 0.0052411909081856185), (737, 0.060033242463842236), (738, 0.0035851497706679046), (739, 0.010507392264265406), (740, 0.017706468529704776), (741, 0.024890996796673278), (742, 0.0151257414860566), (743, 0.011427918960431199), (744, 0.027789208692701142), (745, 0.0037646469080409727), (746, 0.042161564820750425), (747, 0.018206036813980253), (748, 0.05469046084947701), (749, 0.014661898247381028), (750, 0.021604390782187725), (751, 0.017407254234150425), (752, 0.007893199059363969), (753, 0.014170749039101385), (754, 0.009797741505362124), (755, 0.03703285061587094), (756, 0.034127199427684336), (757, 0.011637796517369382), (758, 0.0029194285885378807), (759, 0.029940488024691698), (760, 0.03116918180311172), (761, 0.038522054022388626), (762, 0.0566605510728215), (763, 0.05597502745789205), (764, 0.010845871911356133), (765, 0.0073434531647325035), (766, 0.03436071128155883), (767, 0.01712985257233222), (768, 0.04917373647124364), (769, 0.03908140490214047), (770, 0.024815217346347666), (771, 0.014239510286416871), (772, 0.015577493652340256), (773, 0.042491104480892744), (774, 0.04163982035762856), (775, 0.017558857951938033), (776, 0.014919976489724209), (777, 0.019891683710236648), (778, 0.003804564942096234), (779, 0.03698301292375908), (780, 0.06810865853379489), (781, 0.0033621281717912746), (782, 0.018236298140709605), (783, 0.0032802602952376235), (784, 0.00964397655828938), (785, 0.02004329393873801), (786, 0.01734993464058725), (787, 0.02502875501852352), (788, 0.0245003185547625), (789, 0.031866493229898075), (790, 0.028222887125554205), (791, 0.03699711976198415), (792, 0.034044941424539), (793, 0.018600879598314475), (794, 0.022451268855817108), (795, 0.017697498857878136), (796, 0.003673351052209773), (797, 0.011316643726940702), (798, 0.024563839287418614), (799, 0.009830477596433067), (800, 0.0036478002006678526), (801, 0.025486100603873945), (802, 0.02663830791474849), (803, 0.003948030428240971), (804, 0.015005359545697674), (805, 0.009579978289544268), (806, 0.012499607232507738), (807, 0.02088030974753661), (808, 0.0), (809, 0.05553880830283504), (810, 0.014343388845636264), (811, 0.02401854009944032), (812, 0.015918171132686364), (813, 0.007513152463754553), (814, 0.04290374301341376), (815, 0.012167176703183308), (816, 0.04843839642939955), (817, 0.00822979150309722), (818, 0.02000676162415179), (819, 0.016389677552439853), (820, 0.055241787574631704), (821, 0.03114607788408147), (822, 0.0036492709307938773), (823, 0.02889623299033945), (824, 0.0034344821147996576), (825, 0.014681167965041738), (826, 0.026146589426698598), (827, 0.029883972491393664), (828, 0.007165371886627675), (829, 0.014102113750018654), (830, 0.027845410416811447), (831, 0.017994707134087573), (832, 0.047172585459954196), (833, 0.014002303165539548), (834, 0.01203415508290082), (835, 0.01620572641470837), (836, 0.020458438541675873), (837, 0.007998191953287699), (838, 0.015182086988841588), (839, 0.033765161570952315), (840, 0.03368220695180654), (841, 0.03345116104508179), (842, 0.041745872496765174), (843, 0.024111966509735516), (844, 0.01729566700842893), (845, 0.0036499054109249804), (846, 0.00735795359356054), (847, 0.01697590117238527), (848, 0.0032370810095547096), (849, 0.02290938074600707), (850, 0.04140763403985601), (851, 0.011541737214746928), (852, 0.019020174134915163), (853, 0.038245323854699864), (854, 0.004885799687636921), (855, 0.03933344788894229), (856, 0.009775880787442445), (857, 0.019849230587434367), (858, 0.021986618696693872), (859, 0.014102283762120688), (860, 0.0), (861, 0.008320295932178196), (862, 0.013222173609031352), (863, 0.0), (864, 0.007540033848716396), (865, 0.003660112283129872), (866, 0.010768890930852721), (867, 0.00942882993745609), (868, 0.00859690290377228), (869, 0.0048931529220575505), (870, 0.015446383991430002), (871, 0.015715772563776067), (872, 0.05731559827679949), (873, 0.005994841593533779), (874, 0.0032823639045736104), (875, 0.01176836900772252), (876, 0.0036619741462155884), (877, 0.0033355775068778107), (878, 0.003652283932330252), (879, 0.018280510614541348), (880, 0.02983264818420888), (881, 0.04360724097792126), (882, 0.012405285304638471), (883, 0.0), (884, 0.007368969902043589), (885, 0.024089700656567126), (886, 0.0), (887, 0.020925933517669516), (888, 0.022373007972256137), (889, 0.020105185702887135), (890, 0.022457108689706077), (891, 0.01207206609030608), (892, 0.01862677770042176), (893, 0.031671315530872726), (894, 0.029187923343784478), (895, 0.02399416309839425), (896, 0.020185616435398075), (897, 0.013561787884398302), (898, 0.013941905671036817), (899, 0.009958510262493055), (900, 0.012165739845416567), (901, 0.03813058547720178), (902, 0.007075792165267587), (903, 0.018005500975423888), (904, 0.013807562430207481), (905, 0.04807614720941384), (906, 0.02152248897763653), (907, 0.01480804943109957), (908, 0.0488945033562356), (909, 0.06204059585054428), (910, 0.0055458632348086455), (911, 0.015055143291127317), (912, 0.020399723424038747), (913, 0.01180199103875875), (914, 0.015132313750695152), (915, 0.02016934275948269), (916, 0.011433683240907702), (917, 0.013916408999550996), (918, 0.012368363303632956), (919, 0.007757148354954398), (920, 0.005543505327037942), (921, 0.017071876855131826), (922, 0.013002666803865479), (923, 0.01293062772253886), (924, 0.019331224769165024), (925, 0.020836580444039507), (926, 0.022106448599909137), (927, 0.02978903035388632), (928, 0.016973948467577722), (929, 0.009459565941948647), (930, 0.024364180779258993), (931, 0.03540137913418508), (932, 0.005990665169566393), (933, 0.06821302256346118), (934, 0.0628511543578174), (935, 0.06222348275211493), (936, 0.046278078097664745), (937, 0.013881663032415583), (938, 0.014136945829366955), (939, 0.019056921222617935), (940, 0.0076279959405414), (941, 0.010072153791711353), (942, 0.021656877518559763), (943, 0.01186314811812486), (944, 0.04919494980573349), (945, 0.010018062732543624), (946, 0.12023786933315404), (947, 0.023062988705812158), (948, 0.024840886406548378), (949, 0.03136906560637007), (950, 0.020454965311599453), (951, 0.01481636716573448), (952, 0.01610203242543203), (953, 0.022123665474381826), (954, 0.013181418684568636), (955, 0.015438482805335607), (956, 0.03867104063710717), (957, 0.011459922852588535), (958, 0.03894969206185165), (959, 0.060663678806485925), (960, 0.013228551264217955), (961, 0.003991391457912501), (962, 0.03769183888379504), (963, 0.011675029972503644), (964, 0.01028219537983434), (965, 0.016775246707162454), (966, 0.022583505692580812), (967, 0.003952725438395961), (968, 0.022689379068732765), (969, 0.017126632432564872), (970, 0.03624764185404364), (971, 0.009446931668464102), (972, 0.008682916906474861), (973, 0.003275021106911667), (974, 0.044657100241699284), (975, 0.039272978672677886), (976, 0.040724248208891964), (977, 0.0036187073703436282), (978, 0.020999003968695154), (979, 0.015851699379405546), (980, 0.03908928884292721), (981, 0.015292394246489762), (982, 0.012137030630155959), (983, 0.04851564453671843), (984, 0.0069229532070600105), (985, 0.05036819602605209), (986, 0.015269221600859592), (987, 0.0179799736068637), (988, 0.0034208897962179833), (989, 0.013465623712458005), (990, 0.05467754243655342), (991, 0.010757273013179247), (992, 0.02653417371837051), (993, 0.08657802495732932), (994, 0.039904784040919225), (995, 0.008849604383034407), (996, 0.01931640356168989), (997, 0.0032598474461763578), (998, 0.043236777001510344), (999, 0.0355744368560891)]\n"
          ]
        }
      ],
      "source": [
        "# finding similariy score \n",
        "\n",
        "score = list(enumerate(similarity[index_of_movie]))\n",
        "print(score)"
      ]
    },
    {
      "cell_type": "code",
      "execution_count": 352,
      "metadata": {
        "colab": {
          "base_uri": "https://localhost:8080/"
        },
        "id": "h2Duvsz9LqKy",
        "outputId": "12f1014d-e504-4064-b777-210611280e67"
      },
      "outputs": [
        {
          "data": {
            "text/plain": [
              "1000"
            ]
          },
          "execution_count": 352,
          "metadata": {},
          "output_type": "execute_result"
        }
      ],
      "source": [
        "len(score)"
      ]
    },
    {
      "cell_type": "code",
      "execution_count": 353,
      "metadata": {
        "colab": {
          "base_uri": "https://localhost:8080/"
        },
        "id": "-9vXNydvLqH-",
        "outputId": "72413e08-e7bf-493d-bc79-1496b760254a"
      },
      "outputs": [
        {
          "name": "stdout",
          "output_type": "stream",
          "text": [
            "[(22, 1.0), (946, 0.12023786933315404), (81, 0.09038913488268187), (993, 0.08657802495732932), (268, 0.0850347219541837), (668, 0.08478911119358792), (232, 0.08458898968128904), (710, 0.0786758440484397), (662, 0.0765742057406775), (471, 0.07617641971716277), (108, 0.07580821909651576), (2, 0.07417067422367887), (509, 0.07206975760820584), (474, 0.07186326161592219), (356, 0.07147457078890923), (162, 0.07052857564501783), (704, 0.0696857310830589), (933, 0.06821302256346118), (780, 0.06810865853379489), (550, 0.06732331351411841), (521, 0.06582354679977057), (181, 0.06509432787520979), (270, 0.064180254862224), (600, 0.06359036075343714), (319, 0.0635436895586379), (38, 0.06317563672919285), (934, 0.0628511543578174), (935, 0.06222348275211493), (909, 0.06204059585054428), (959, 0.060663678806485925), (737, 0.060033242463842236), (311, 0.0594774629458338), (262, 0.05874971885712505), (418, 0.05829762144855852), (51, 0.05778614395514732), (316, 0.05768320331776114), (872, 0.05731559827679949), (762, 0.0566605510728215), (109, 0.056226648711807665), (763, 0.05597502745789205), (5, 0.05578942517311759), (809, 0.05553880830283504), (305, 0.05532793608738003), (820, 0.055241787574631704), (261, 0.05521540002481736), (345, 0.055047130021941476), (125, 0.05473681519918738), (748, 0.05469046084947701), (990, 0.05467754243655342), (65, 0.05370591589000624), (165, 0.05346713325859096), (648, 0.05332203704472878), (449, 0.053241862297642606), (36, 0.05252193503258639), (616, 0.05154818988394602), (599, 0.05129459624322041), (429, 0.05065896394458402), (985, 0.05036819602605209), (6, 0.05019105497319811), (267, 0.05008945322705592), (37, 0.050058350970849104), (944, 0.04919494980573349), (768, 0.04917373647124364), (713, 0.04905291474393217), (908, 0.0488945033562356), (431, 0.048826675467740374), (369, 0.04882031966711817), (26, 0.04853949134107072), (983, 0.04851564453671843), (816, 0.04843839642939955), (11, 0.04812818808121332), (905, 0.04807614720941384), (373, 0.04797102042781897), (355, 0.04726358316479104), (832, 0.047172585459954196), (496, 0.04708745027613381), (161, 0.046935502926062383), (147, 0.0469319120357965), (298, 0.04675029604328624), (936, 0.046278078097664745), (151, 0.04616338619226167), (493, 0.04614758326111135), (428, 0.046126958579274055), (500, 0.0459857219384711), (50, 0.04590867860427908), (682, 0.04567081030361187), (646, 0.045649869741924545), (310, 0.045348820007160257), (10, 0.044856492118687086), (543, 0.044804242770546496), (974, 0.044657100241699284), (386, 0.044338585002704385), (189, 0.044308636506446564), (174, 0.04413548346254652), (552, 0.04406218111740827), (25, 0.04374935784065049), (505, 0.04364249227685957), (881, 0.04360724097792126), (103, 0.04348960265608104), (998, 0.043236777001510344), (814, 0.04290374301341376), (565, 0.04264307157945236), (658, 0.04257072966403434), (773, 0.042491104480892744), (746, 0.042161564820750425), (417, 0.04190631139151269), (166, 0.041749593511796274), (842, 0.041745872496765174), (774, 0.04163982035762856), (850, 0.04140763403985601), (574, 0.041359367770985846), (236, 0.04132496481329033), (477, 0.04111970646905407), (337, 0.041111521806289436), (604, 0.041100173377883444), (234, 0.041032684654188134), (255, 0.040986662956454895), (210, 0.04088940945120436), (976, 0.040724248208891964), (462, 0.04066449135907553), (251, 0.040253111537669105), (407, 0.040134295016166846), (284, 0.0400080777529456), (994, 0.039904784040919225), (291, 0.03977047541112319), (344, 0.03964251930427408), (18, 0.03961405190780181), (855, 0.03933344788894229), (975, 0.039272978672677886), (222, 0.03921576878254432), (980, 0.03908928884292721), (769, 0.03908140490214047), (634, 0.039040482864289586), (297, 0.038998108290709724), (958, 0.03894969206185165), (75, 0.038928262928897846), (956, 0.03867104063710717), (674, 0.038617318985365634), (593, 0.03853796108865564), (177, 0.03852919632700887), (761, 0.038522054022388626), (136, 0.03846195740593894), (288, 0.03841495157879926), (473, 0.038329968294454383), (853, 0.038245323854699864), (375, 0.038164216440571753), (901, 0.03813058547720178), (962, 0.03769183888379504), (654, 0.037446109630068794), (237, 0.03734220102150241), (639, 0.03733154747351318), (263, 0.037034805315411076), (755, 0.03703285061587094), (791, 0.03699711976198415), (779, 0.03698301292375908), (497, 0.03686786963261921), (218, 0.03672454612646225), (519, 0.03663537351990075), (167, 0.03636578883360127), (529, 0.03629283212643332), (970, 0.03624764185404364), (58, 0.03603218841545185), (15, 0.03599261492224309), (303, 0.03591493020097397), (172, 0.035848242042115154), (153, 0.03583690748954386), (64, 0.03572220510189289), (29, 0.03562630621390407), (185, 0.035606261659626874), (999, 0.0355744368560891), (608, 0.03552705649547994), (931, 0.03540137913418508), (239, 0.035212006959829525), (27, 0.035210443013151196), (183, 0.035182343091437404), (170, 0.03516985164116043), (76, 0.035160550751039285), (87, 0.034831293758626536), (335, 0.03478776717082875), (86, 0.034455626092651834), (766, 0.03436071128155883), (326, 0.03424336524607859), (756, 0.034127199427684336), (792, 0.034044941424539), (257, 0.034007028882954315), (839, 0.033765161570952315), (169, 0.0337446188487437), (285, 0.03372491311052994), (840, 0.03368220695180654), (59, 0.03365198512772683), (556, 0.03357969359650377), (624, 0.03346576171405992), (841, 0.03345116104508179), (436, 0.03300526937443355), (3, 0.03298816165265901), (419, 0.03294435904401019), (84, 0.032911644500365475), (113, 0.032897644537146276), (450, 0.03287295991394831), (513, 0.0328535956340271), (176, 0.03278809792292298), (734, 0.032713065095923796), (243, 0.03265918698206561), (459, 0.03253591059730869), (254, 0.03253011775614407), (706, 0.03230598673903532), (57, 0.03225504084511194), (707, 0.03200640630000692), (789, 0.031866493229898075), (411, 0.03180654390973369), (142, 0.031712832417681906), (893, 0.031671315530872726), (347, 0.03165705386083607), (669, 0.03164079529083595), (686, 0.031436182725860164), (226, 0.03138977278047926), (666, 0.031387882320439625), (111, 0.03137967156309599), (949, 0.03136906560637007), (149, 0.031313677167550596), (718, 0.03127953444819562), (44, 0.031203940437314892), (760, 0.03116918180311172), (821, 0.03114607788408147), (346, 0.03106674476476596), (416, 0.031018032637599578), (528, 0.030961246578766154), (424, 0.03094303109215256), (126, 0.030832199107842552), (687, 0.030723808498294414), (564, 0.030676246574602935), (621, 0.030567185925899486), (412, 0.030547470139215924), (265, 0.030519858502454828), (527, 0.03036455056658455), (520, 0.030353135541843993), (71, 0.030299568602588183), (759, 0.029940488024691698), (827, 0.029883972491393664), (221, 0.02984582663531156), (295, 0.029842529847868088), (880, 0.02983264818420888), (927, 0.02978903035388632), (698, 0.029779043637792258), (351, 0.029569804471254048), (458, 0.02942919600240672), (33, 0.02938978066793898), (894, 0.029187923343784478), (186, 0.029075967078736328), (107, 0.029065669886642907), (132, 0.028999910974126616), (357, 0.0289949964646322), (823, 0.02889623299033945), (224, 0.02887946959505127), (63, 0.028756973925184205), (13, 0.0287399424464006), (94, 0.02864580196132883), (483, 0.02863724112426804), (523, 0.028518503821636773), (463, 0.028343964348394604), (252, 0.02831019306927932), (42, 0.02828862154376048), (680, 0.028227057186343364), (790, 0.028222887125554205), (364, 0.028133289399803182), (636, 0.0281162445015967), (524, 0.02811443334122366), (60, 0.02786851590552398), (830, 0.027845410416811447), (744, 0.027789208692701142), (437, 0.027662702745282354), (576, 0.02761504823691113), (299, 0.027574626660166246), (229, 0.027489345845823382), (653, 0.02734017048366419), (212, 0.02715930072630168), (403, 0.027103107477764316), (1, 0.026983010999941468), (216, 0.026831678504456734), (143, 0.02682311169570304), (445, 0.026744593449786497), (397, 0.026724330156579476), (209, 0.026720873837332237), (802, 0.02663830791474849), (4, 0.02653499981995562), (992, 0.02653417371837051), (70, 0.026395827682193004), (530, 0.026380478945105583), (370, 0.026308598122776587), (278, 0.026241201944926493), (826, 0.026146589426698598), (506, 0.026138614580744596), (362, 0.026124061487789833), (444, 0.025999010848991568), (708, 0.02599428178335829), (618, 0.025870633825066495), (535, 0.025840859597236723), (130, 0.025733024443669403), (663, 0.025681020693755732), (577, 0.025670744261707134), (480, 0.025553704408679954), (116, 0.02551803391242748), (801, 0.025486100603873945), (207, 0.025334750204839294), (589, 0.025278548435943113), (173, 0.02518824632447202), (697, 0.025094666926238664), (787, 0.02502875501852352), (193, 0.024999540655310744), (259, 0.024921317126747358), (282, 0.024897622476235316), (741, 0.024890996796673278), (948, 0.024840886406548378), (770, 0.024815217346347666), (735, 0.02478761653689754), (584, 0.02471677368546485), (8, 0.02470536898123979), (670, 0.02463512748072703), (457, 0.024598664368682247), (20, 0.02457815261710818), (798, 0.024563839287418614), (788, 0.0245003185547625), (55, 0.024422758323536596), (930, 0.024364180779258993), (301, 0.024277318561131116), (590, 0.024247758431280315), (695, 0.02423134406802182), (536, 0.024184507743285344), (388, 0.02411811462571306), (843, 0.024111966509735516), (885, 0.024089700656567126), (811, 0.02401854009944032), (582, 0.02400591485258578), (895, 0.02399416309839425), (684, 0.0239849480544524), (587, 0.023967789655952663), (331, 0.02392047191438054), (555, 0.023808605266468705), (514, 0.02380699773940461), (72, 0.02374073788038061), (643, 0.02369069526593395), (464, 0.02363924472128069), (558, 0.02358637616638323), (384, 0.023525273337816937), (494, 0.02348210242874278), (380, 0.02335457557009413), (360, 0.023349878707188586), (378, 0.023321467617551876), (461, 0.02329876074082226), (315, 0.023239049621386645), (467, 0.023207348087241376), (112, 0.02320304471459405), (664, 0.023202998114062116), (640, 0.023168604107730813), (451, 0.02313158969306652), (217, 0.023104356749065417), (588, 0.023069878089614998), (947, 0.023062988705812158), (28, 0.02297503704259558), (849, 0.02290938074600707), (352, 0.022768102749726567), (614, 0.02273901968877753), (333, 0.022701491131752554), (968, 0.022689379068732765), (465, 0.022599516643412088), (966, 0.022583505692580812), (54, 0.022559369838324753), (890, 0.022457108689706077), (794, 0.022451268855817108), (888, 0.022373007972256137), (460, 0.022238765317040856), (230, 0.02222638301196965), (203, 0.022182478932828473), (953, 0.022123665474381826), (926, 0.022106448599909137), (617, 0.022098307428395757), (676, 0.022058629807701135), (164, 0.022040324707528407), (858, 0.021986618696693872), (651, 0.021706539882531805), (296, 0.021687179682789222), (942, 0.021656877518559763), (750, 0.021604390782187725), (906, 0.02152248897763653), (157, 0.021412026798504073), (522, 0.021384238202524976), (363, 0.021363713436228653), (152, 0.021349530654534436), (19, 0.02132907686416726), (408, 0.02129538606518348), (77, 0.021270962400244307), (163, 0.021250603115768534), (45, 0.021245128491496443), (323, 0.02120624829290608), (605, 0.021127321908026065), (231, 0.021099021842357787), (274, 0.02107163935896142), (219, 0.0210565744506407), (606, 0.021049269645102793), (245, 0.02103431425216256), (581, 0.02102023097288353), (978, 0.020999003968695154), (510, 0.0209979149008401), (544, 0.02099474429326851), (426, 0.020938963800585852), (575, 0.02093667437213135), (887, 0.020925933517669516), (405, 0.020900896796134032), (807, 0.02088030974753661), (712, 0.020857873598887678), (692, 0.020845110537433185), (925, 0.020836580444039507), (199, 0.02082393246129314), (17, 0.020739786499837924), (430, 0.02069850851304478), (393, 0.020657305473302832), (644, 0.02063480350785794), (660, 0.02062502366271082), (88, 0.02059631600315673), (478, 0.020591341430253658), (12, 0.020529456947039598), (836, 0.020458438541675873), (950, 0.020454965311599453), (645, 0.020432645734747668), (912, 0.020399723424038747), (534, 0.0203951866502133), (401, 0.020390303711506918), (359, 0.020387160168669687), (187, 0.020246964482804913), (124, 0.020191004586975127), (896, 0.020185616435398075), (508, 0.020183889687769286), (915, 0.02016934275948269), (195, 0.02013344551036458), (253, 0.02012114347760162), (889, 0.020105185702887135), (241, 0.02008967380758606), (390, 0.02006642791155667), (504, 0.020049425156924792), (785, 0.02004329393873801), (818, 0.02000676162415179), (512, 0.01998867377554995), (14, 0.019936530550226393), (777, 0.019891683710236648), (723, 0.019876183862494415), (633, 0.019852083252591884), (857, 0.019849230587434367), (620, 0.019695182064635913), (468, 0.019627197456913756), (455, 0.01950858134135687), (611, 0.019477288974564997), (619, 0.01944870067564293), (41, 0.019363040838219665), (439, 0.01935491890910994), (133, 0.01933222574160249), (924, 0.019331224769165024), (312, 0.01931946883036125), (996, 0.01931640356168989), (332, 0.019238792306297194), (201, 0.01906177078195649), (16, 0.019058243535115267), (939, 0.019056921222617935), (689, 0.019040089144811565), (852, 0.019020174134915163), (548, 0.01898085909178026), (89, 0.01897155633454692), (95, 0.018926774843470516), (702, 0.018912882809573636), (630, 0.018900398965657976), (892, 0.01862677770042176), (573, 0.01862569911440606), (793, 0.018600879598314475), (148, 0.018542460181963944), (728, 0.018522686486841477), (586, 0.018518022837488615), (410, 0.01845756004186013), (156, 0.018426277887587786), (180, 0.018345730575782926), (198, 0.018312799808444555), (709, 0.018308532525584748), (879, 0.018280510614541348), (782, 0.018236298140709605), (438, 0.01822478503856909), (747, 0.018206036813980253), (487, 0.01813817126279996), (479, 0.01812073607924053), (560, 0.018112656499857334), (585, 0.018061580451715294), (485, 0.01804536094509164), (90, 0.018012865670508797), (903, 0.018005500975423888), (441, 0.018004350234031723), (104, 0.017996080178842726), (831, 0.017994707134087573), (696, 0.01798734187546631), (987, 0.0179799736068637), (139, 0.01794039364343864), (729, 0.01791133094887032), (602, 0.0178605128986434), (128, 0.01781817139077478), (688, 0.01779867810836983), (579, 0.017764488424481147), (368, 0.01771766013311247), (740, 0.017706468529704776), (795, 0.017697498857878136), (720, 0.01768898463197812), (545, 0.017576119684389623), (775, 0.017558857951938033), (205, 0.017518276627122097), (540, 0.017423747617306487), (751, 0.017407254234150425), (361, 0.017380153408353485), (101, 0.017376585311516556), (610, 0.01736020513199154), (786, 0.01734993464058725), (844, 0.01729566700842893), (318, 0.017244253583168702), (482, 0.01723169149098877), (705, 0.017223492553418585), (105, 0.01721717667727924), (767, 0.01712985257233222), (969, 0.017126632432564872), (623, 0.01708266065211099), (921, 0.017071876855131826), (383, 0.017057869463387446), (276, 0.016991079026077115), (847, 0.01697590117238527), (928, 0.016973948467577722), (277, 0.01691546037121266), (134, 0.01686201796469553), (140, 0.01685420835366148), (661, 0.016832408092974545), (965, 0.016775246707162454), (80, 0.01671871834756924), (339, 0.016571310509843062), (607, 0.01650134189873583), (131, 0.016469889574914007), (73, 0.01645827829861618), (727, 0.016457893263568613), (145, 0.016424607137724846), (819, 0.016389677552439853), (442, 0.016329958098201418), (484, 0.016308040699264097), (354, 0.016239072696217542), (835, 0.01620572641470837), (547, 0.01620552807112368), (596, 0.016193145346117984), (531, 0.016150090947778195), (61, 0.016113400990222588), (952, 0.01610203242543203), (30, 0.016049302422171088), (667, 0.01604589328094313), (49, 0.01601628978361538), (102, 0.016008582654635048), (178, 0.015974801162407716), (348, 0.015965139877271477), (812, 0.015918171132686364), (150, 0.015907717134717114), (979, 0.015851699379405546), (366, 0.015794252996721637), (871, 0.015715772563776067), (595, 0.015686860172131414), (242, 0.015660396693122587), (304, 0.015632147087737615), (772, 0.015577493652340256), (286, 0.015488912182971661), (190, 0.015473052714723549), (273, 0.0154504833016505), (870, 0.015446383991430002), (955, 0.015438482805335607), (681, 0.015397928935779948), (269, 0.015334422725004022), (981, 0.015292394246489762), (986, 0.015269221600859592), (91, 0.015254401945533246), (609, 0.015249855162779945), (838, 0.015182086988841588), (486, 0.015170466236080673), (914, 0.015132313750695152), (154, 0.015129770224411882), (349, 0.015128695025785142), (742, 0.0151257414860566), (685, 0.01507829996542414), (911, 0.015055143291127317), (317, 0.015037450226709468), (804, 0.015005359545697674), (678, 0.014941716757648282), (776, 0.014919976489724209), (415, 0.014873962660554234), (691, 0.014865660976431003), (951, 0.01481636716573448), (907, 0.01480804943109957), (546, 0.014753938591855401), (85, 0.014721956425947067), (476, 0.014702729405016834), (825, 0.014681167965041738), (155, 0.01467119921131543), (749, 0.014661898247381028), (334, 0.01456991998250804), (123, 0.014556461137270786), (400, 0.014549368544766806), (342, 0.014467185096676279), (570, 0.014457880690595183), (223, 0.014391528184341664), (717, 0.01437241890107365), (655, 0.014356093245850847), (810, 0.014343388845636264), (771, 0.014239510286416871), (23, 0.014238996130843899), (572, 0.014210451476713338), (753, 0.014170749039101385), (66, 0.014148455950650661), (938, 0.014136945829366955), (859, 0.014102283762120688), (829, 0.014102113750018654), (309, 0.01406580056532487), (435, 0.014029220158805911), (580, 0.014015107882543072), (833, 0.014002303165539548), (673, 0.01396801659893766), (336, 0.013945647199701528), (898, 0.013941905671036817), (472, 0.013935188438486736), (917, 0.013916408999550996), (433, 0.013896765381620163), (937, 0.013881663032415583), (542, 0.013822045046211682), (537, 0.01381602307762884), (904, 0.013807562430207481), (379, 0.013796396432035436), (213, 0.013796321172256005), (52, 0.013766604151933662), (74, 0.013687144649332048), (406, 0.013670291770907603), (184, 0.013647848291297176), (78, 0.013646081074400344), (897, 0.013561787884398302), (394, 0.013545133995816477), (314, 0.013501556675347758), (290, 0.013466848552442935), (989, 0.013465623712458005), (338, 0.013463920276054014), (39, 0.013407463225304585), (612, 0.013350235456931741), (726, 0.013242882625965157), (559, 0.013237857703335324), (960, 0.013228551264217955), (862, 0.013222173609031352), (954, 0.013181418684568636), (679, 0.01316904788639699), (308, 0.013160451225257965), (92, 0.013159573411018312), (43, 0.013118862641005728), (515, 0.013104230400007567), (443, 0.013090219425879053), (196, 0.013072385589484592), (372, 0.013061518932353838), (275, 0.013013817564250206), (699, 0.013011668065352144), (922, 0.013002666803865479), (923, 0.01293062772253886), (566, 0.012904242583738283), (597, 0.012896979438231303), (62, 0.012799396267128383), (272, 0.012725173783185419), (551, 0.01250959454601869), (806, 0.012499607232507738), (24, 0.012487722592934462), (256, 0.012433532668845209), (882, 0.012405285304638471), (281, 0.012386327489952808), (918, 0.012368363303632956), (532, 0.012358550094315014), (507, 0.012344460797642884), (625, 0.012333479540881449), (626, 0.01232864844409277), (511, 0.012271743733930432), (327, 0.012252412152939055), (329, 0.012207420003906375), (594, 0.012190097731409852), (815, 0.012167176703183308), (900, 0.012165739845416567), (982, 0.012137030630155959), (192, 0.012096119939002874), (891, 0.01207206609030608), (834, 0.01203415508290082), (244, 0.011979439125689134), (138, 0.011919605519128448), (659, 0.011919492940084073), (171, 0.011917004746712433), (287, 0.011910911530020645), (943, 0.01186314811812486), (913, 0.01180199103875875), (562, 0.011789931909832994), (875, 0.01176836900772252), (499, 0.011695517885341112), (963, 0.011675029972503644), (592, 0.011661101991464508), (757, 0.011637796517369382), (402, 0.011610972125287194), (423, 0.011601167887889834), (851, 0.011541737214746928), (957, 0.011459922852588535), (916, 0.011433683240907702), (743, 0.011427918960431199), (67, 0.01142608400317749), (578, 0.011419158891694862), (100, 0.011408426068502736), (518, 0.011402589653480448), (343, 0.011387601380644662), (690, 0.011364072164556531), (797, 0.011316643726940702), (650, 0.011298150296976115), (671, 0.011249675260886192), (283, 0.011068747310288132), (567, 0.011066152620805063), (93, 0.011059660343337097), (179, 0.01096919080479142), (399, 0.010953725838418237), (553, 0.010919633673832422), (764, 0.010845871911356133), (279, 0.010843162618305782), (866, 0.010768890930852721), (991, 0.010757273013179247), (628, 0.010711426975080748), (598, 0.010643395654225216), (377, 0.010626755433936812), (0, 0.010591116886424928), (248, 0.010522103581691446), (739, 0.010507392264265406), (188, 0.010507044513964881), (495, 0.010504911182829079), (719, 0.01049451223404476), (115, 0.010453296296611816), (358, 0.010343235088253404), (117, 0.010343001573681173), (396, 0.010300292226164784), (964, 0.01028219537983434), (371, 0.010244206302655458), (454, 0.010228661067672905), (266, 0.010181475373737432), (420, 0.010119888234855963), (330, 0.010102634245349181), (941, 0.010072153791711353), (583, 0.010035599351604828), (264, 0.010025368070767239), (945, 0.010018062732543624), (635, 0.009994386172892954), (307, 0.009982004707841824), (629, 0.00997790462529526), (899, 0.009958510262493055), (302, 0.009926536852550138), (79, 0.009922947793386264), (158, 0.00989952118513231), (722, 0.009897640655367098), (391, 0.00986686996555477), (481, 0.00984914097014199), (799, 0.009830477596433067), (754, 0.009797741505362124), (856, 0.009775880787442445), (204, 0.009699538361551512), (603, 0.009691383971935802), (53, 0.009650474464788549), (118, 0.009645376973529175), (106, 0.009644378284991225), (784, 0.00964397655828938), (47, 0.009639582021235608), (246, 0.009594941468312813), (539, 0.00959099672831814), (805, 0.009579978289544268), (421, 0.009579757134549664), (615, 0.009510132699674555), (929, 0.009459565941948647), (194, 0.009458257112342983), (395, 0.009447650870294387), (971, 0.009446931668464102), (867, 0.00942882993745609), (721, 0.009417760452745672), (211, 0.009359613752787141), (563, 0.009290395428498915), (40, 0.009279164616563869), (404, 0.009264212080182726), (240, 0.009263080878734762), (715, 0.00925407671967935), (470, 0.009248056294227551), (382, 0.009243220471185327), (35, 0.00923052626308921), (398, 0.009103031623551586), (271, 0.009066415559020746), (675, 0.009015652460457445), (491, 0.008962654446718642), (714, 0.008917402621908417), (215, 0.008880152955532166), (995, 0.008849604383034407), (48, 0.008839188515349199), (501, 0.008812006035445515), (693, 0.00880828647422837), (280, 0.008743971643038029), (191, 0.008741878657506235), (972, 0.008682916906474861), (622, 0.008674311337376096), (56, 0.008609056827636399), (868, 0.00859690290377228), (202, 0.008593884745809643), (238, 0.008494206565480769), (569, 0.008476548317745889), (129, 0.008456164836803866), (313, 0.008419444858736098), (46, 0.008394786410342133), (365, 0.008349478648098829), (861, 0.008320295932178196), (817, 0.00822979150309722), (516, 0.00816604542800276), (724, 0.008054725531031466), (591, 0.008014703750935867), (197, 0.008013771876279632), (837, 0.007998191953287699), (716, 0.007991094831737556), (114, 0.007949263693901278), (350, 0.007924371943345252), (538, 0.00792408920780363), (306, 0.007912014213434395), (446, 0.007911173333496469), (752, 0.007893199059363969), (141, 0.00787927283256918), (392, 0.007849274457088991), (289, 0.007835082832084199), (919, 0.007757148354954398), (110, 0.00772842490264024), (469, 0.007648645805352132), (940, 0.0076279959405414), (517, 0.007617659242983053), (120, 0.0076016461898446835), (381, 0.00754694507689126), (864, 0.007540033848716396), (813, 0.007513152463754553), (21, 0.007510880453691342), (122, 0.0074968725899160205), (135, 0.007479534250804694), (300, 0.00746539354219298), (409, 0.007406489372755927), (642, 0.0074003780018150785), (144, 0.007390497107461784), (884, 0.007368969902043589), (294, 0.0073637824805222575), (846, 0.00735795359356054), (765, 0.0073434531647325035), (376, 0.007331422465503884), (632, 0.0072091984926703125), (665, 0.007172983724581349), (828, 0.007165371886627675), (466, 0.007148083868049336), (503, 0.007118255645333731), (902, 0.007075792165267587), (247, 0.007017984490217877), (206, 0.006943206899602407), (984, 0.0069229532070600105), (733, 0.006874353435357551), (214, 0.006868999645957271), (453, 0.006866860380548109), (525, 0.006782992328751239), (413, 0.006747582905117661), (649, 0.006726776983101832), (657, 0.00672397133288849), (526, 0.006628363616806553), (549, 0.006591410838725111), (160, 0.0065286968311959424), (325, 0.006459616656244223), (168, 0.006431475546731867), (414, 0.006418898885497946), (637, 0.006289720141127273), (227, 0.006278640078914216), (711, 0.00627550106324018), (96, 0.006226137082325837), (175, 0.006183300275878396), (68, 0.006169649715263207), (601, 0.006020586442990049), (489, 0.006001985894992306), (873, 0.005994841593533779), (932, 0.005990665169566393), (83, 0.0059280550812395435), (498, 0.005902773532851164), (328, 0.005828764622999233), (488, 0.005787776250405963), (502, 0.005786950729781307), (159, 0.005774398769552355), (652, 0.00575762981945609), (34, 0.005633284866494162), (340, 0.005618173374559437), (910, 0.0055458632348086455), (920, 0.005543505327037942), (631, 0.005299268906346968), (557, 0.0052872385966079), (736, 0.0052411909081856185), (732, 0.005169252240864527), (225, 0.005155437971496744), (235, 0.005120349599709916), (7, 0.0050656632075965526), (730, 0.005062944477122017), (324, 0.005022055947778874), (869, 0.0048931529220575505), (854, 0.004885799687636921), (432, 0.004546660178735857), (641, 0.00435192633513064), (427, 0.004282176168032292), (490, 0.0040565689337778), (121, 0.004020501832855891), (961, 0.003991391457912501), (452, 0.003972196774464843), (385, 0.003960745748391752), (967, 0.003952725438395961), (69, 0.003949700253200431), (803, 0.003948030428240971), (554, 0.003936942029768312), (561, 0.003936682077751186), (119, 0.00392305050044508), (353, 0.003919075883246165), (647, 0.003908374310601042), (627, 0.003905851433130052), (434, 0.003900797688376458), (701, 0.0038490216317166545), (778, 0.003804564942096234), (725, 0.0037814633144180815), (745, 0.0037646469080409727), (568, 0.0037527702045752325), (677, 0.0037364975028826393), (208, 0.003735564745584899), (321, 0.0037236856452186576), (292, 0.0037005098768888426), (31, 0.00367414408472386), (796, 0.003673351052209773), (876, 0.0036619741462155884), (865, 0.003660112283129872), (878, 0.003652283932330252), (845, 0.0036499054109249804), (822, 0.0036492709307938773), (800, 0.0036478002006678526), (97, 0.0036322026194519842), (533, 0.0036272360934270754), (977, 0.0036187073703436282), (82, 0.003590248279932438), (683, 0.003588584479306281), (738, 0.0035851497706679046), (456, 0.0035716090686129733), (541, 0.0035180834057201237), (233, 0.0035157096562430674), (731, 0.0035041097008870438), (389, 0.003491078246803515), (320, 0.0034557847809252636), (571, 0.0034423217798974495), (824, 0.0034344821147996576), (988, 0.0034208897962179833), (700, 0.0033678896776124954), (781, 0.0033621281717912746), (99, 0.003348454149153115), (877, 0.0033355775068778107), (638, 0.0033090253463536863), (874, 0.0032823639045736104), (783, 0.0032802602952376235), (973, 0.003275021106911667), (997, 0.0032598474461763578), (341, 0.0032563741950549594), (146, 0.0032529201982090055), (848, 0.0032370810095547096), (613, 0.0032250753175031583), (422, 0.0032152129674452596), (9, 0.0031939648265096746), (447, 0.0031560241107728404), (672, 0.0031352502521672493), (703, 0.003112168371273226), (448, 0.0031113119849889856), (220, 0.003092661086723593), (32, 0.003013423302044658), (758, 0.0029194285885378807), (656, 0.0028443079376242724), (258, 0.002652968343393662), (374, 0.0025118763209282255), (98, 0.0), (127, 0.0), (137, 0.0), (182, 0.0), (200, 0.0), (228, 0.0), (249, 0.0), (250, 0.0), (260, 0.0), (293, 0.0), (322, 0.0), (367, 0.0), (387, 0.0), (425, 0.0), (440, 0.0), (475, 0.0), (492, 0.0), (694, 0.0), (808, 0.0), (860, 0.0), (863, 0.0), (883, 0.0), (886, 0.0)]\n"
          ]
        }
      ],
      "source": [
        "# finding movies having higher similarity score \n",
        "\n",
        "sorted_list = sorted(score, key = lambda x:x[1], reverse = True)\n",
        "# sort based on non increasing order, key is based on first index of score in list element which is score in (index, score)\n",
        "print(sorted_list)"
      ]
    },
    {
      "cell_type": "code",
      "execution_count": 354,
      "metadata": {
        "colab": {
          "base_uri": "https://localhost:8080/"
        },
        "id": "_MhejghFLqE3",
        "outputId": "6b6db298-5df9-4f6c-eb73-4f3723c6ee0a"
      },
      "outputs": [
        {
          "name": "stdout",
          "output_type": "stream",
          "text": [
            "(22, 1.0) (946, 0.12023786933315404) (81, 0.09038913488268187) (993, 0.08657802495732932) (268, 0.0850347219541837)\n"
          ]
        }
      ],
      "source": [
        "print(sorted_list[0], sorted_list[1], sorted_list[2], sorted_list[3], sorted_list[4])\n",
        "# top five score with index "
      ]
    },
    {
      "cell_type": "code",
      "execution_count": 355,
      "metadata": {
        "colab": {
          "base_uri": "https://localhost:8080/"
        },
        "id": "7SpKzAIfLqB9",
        "outputId": "8b9ce873-4625-4af7-c3f3-88f69a38507b"
      },
      "outputs": [
        {
          "name": "stdout",
          "output_type": "stream",
          "text": [
            "Movies Results : \n",
            "\n",
            "1 . cidade de deus\n",
            "2 . y tu mamá también\n",
            "3 . rear window\n",
            "4 . blowup\n",
            "5 . platoon\n"
          ]
        }
      ],
      "source": [
        "# printing the name of simila rmovies based on the index\n",
        "\n",
        "print(\"Movies Results : \\n\")\n",
        "\n",
        "i = 1\n",
        "\n",
        "for movie in sorted_list:\n",
        "  index = movie[0]\n",
        "  title_of_movie = dataset[dataset.index == index]['Series_Title'].values[0]\n",
        "  if(i<=5):\n",
        "    print(i, '.', title_of_movie)\n",
        "    i += 1"
      ]
    },
    {
      "cell_type": "markdown",
      "metadata": {
        "id": "Rp5khK0sR824"
      },
      "source": [
        "## Recommendation function "
      ]
    },
    {
      "cell_type": "code",
      "execution_count": 356,
      "metadata": {
        "id": "UZ3_zgIOLp_H"
      },
      "outputs": [],
      "source": [
        "def recommend(name):\n",
        "  find_close_match = difflib.get_close_matches(movie_name, list_of_all_titles)\n",
        "  \n",
        "  try:\n",
        "    close_match = find_close_match[0]\n",
        "  except IndexError:\n",
        "    close_match = 'null'\n",
        "    print(\"No result found with this title\")\n",
        "    return \n",
        "  index_of_movie = dataset[dataset.Series_Title == close_match]['Index'].values[0]\n",
        "  score = list(enumerate(similarity[index_of_movie]))\n",
        "  sorted_list = sorted(score, key = lambda x:x[1], reverse = True)\n",
        "\n",
        "\n",
        "  print(\"Movies Results : \\n\")\n",
        "\n",
        "  i = 1\n",
        "\n",
        "  for movie in sorted_list:\n",
        "    index = movie[0]\n",
        "    title_of_movie = dataset[dataset.index == index]['Series_Title'].values[0]\n",
        "    if(i<=5):\n",
        "      print(i, '. ', title_of_movie)\n",
        "      i += 1"
      ]
    },
    {
      "cell_type": "code",
      "execution_count": 357,
      "metadata": {
        "colab": {
          "base_uri": "https://localhost:8080/"
        },
        "id": "c13M2v3wLp8D",
        "outputId": "ac6df93a-a15d-42d4-a3d7-7dc131a0df3e"
      },
      "outputs": [
        {
          "name": "stdout",
          "output_type": "stream",
          "text": [
            "Movies Results : \n",
            "\n",
            "1 .  cidade de deus\n",
            "2 .  y tu mamá también\n",
            "3 .  rear window\n",
            "4 .  blowup\n",
            "5 .  platoon\n"
          ]
        }
      ],
      "source": [
        "movie_name = input('Enter your favourite movie name : ')\n",
        "\n",
        "recommend(movie_name)"
      ]
    },
    {
      "cell_type": "code",
      "execution_count": null,
      "metadata": {
        "id": "WebYfLZsSsEb"
      },
      "outputs": [],
      "source": []
    }
  ],
  "metadata": {
    "colab": {
      "authorship_tag": "ABX9TyPRLfGy5TomTTFDoCxo0Nu2",
      "include_colab_link": true,
      "provenance": []
    },
    "kernelspec": {
      "display_name": "Python 3",
      "name": "python3"
    },
    "language_info": {
      "codemirror_mode": {
        "name": "ipython",
        "version": 3
      },
      "file_extension": ".py",
      "mimetype": "text/x-python",
      "name": "python",
      "nbconvert_exporter": "python",
      "pygments_lexer": "ipython3",
      "version": "3.11.2"
    }
  },
  "nbformat": 4,
  "nbformat_minor": 0
}
